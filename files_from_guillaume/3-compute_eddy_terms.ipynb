{
 "cells": [
  {
   "cell_type": "code",
   "execution_count": 1,
   "metadata": {},
   "outputs": [],
   "source": [
    "import xarray as xr\n",
    "import nowpp as now\n",
    "import xscale.signal.fitting as xfit\n",
    "import pandas as pd\n",
    "import os\n",
    "import subprocess"
   ]
  },
  {
   "cell_type": "markdown",
   "metadata": {},
   "source": [
    "## Starting a PBS Cluster with dask.distributed"
   ]
  },
  {
   "cell_type": "code",
   "execution_count": 3,
   "metadata": {},
   "outputs": [
    {
     "name": "stderr",
     "output_type": "stream",
     "text": [
      "/g/data1/e14/gs9353/miniconda3/envs/now-postprocess/lib/python3.6/site-packages/distributed/deploy/local.py:138: UserWarning: diagnostics_port has been deprecated. Please use `dashboard_address=` instead\n",
      "  \"diagnostics_port has been deprecated. \"\n"
     ]
    }
   ],
   "source": [
    "cluster, client = now.raijin_cluster(cores=14, memory='64GB',  processes=1)"
   ]
  },
  {
   "cell_type": "code",
   "execution_count": 4,
   "metadata": {},
   "outputs": [
    {
     "name": "stdout",
     "output_type": "stream",
     "text": [
      "PBSCluster(cores=0, memory=0 B, workers=0/0, jobs=0/0)\n"
     ]
    }
   ],
   "source": [
    "print(cluster)"
   ]
  },
  {
   "cell_type": "markdown",
   "metadata": {},
   "source": [
    "Dask.job_queue will launched PBS jobs using the following header:"
   ]
  },
  {
   "cell_type": "code",
   "execution_count": 5,
   "metadata": {},
   "outputs": [
    {
     "name": "stdout",
     "output_type": "stream",
     "text": [
      "#!/bin/bash\n",
      "\n",
      "#!/usr/bin/env bash\n",
      "#PBS -P e14\n",
      "#PBS -N dask-worker\n",
      "#PBS -q expressbw\n",
      "#PBS -l ncpus=14\n",
      "#PBS -l mem=64GB\n",
      "#PBS -l walltime=01:00:00\n",
      "JOB_ID=${PBS_JOBID%.*}\n",
      "\n",
      "\n",
      "\n",
      "/g/data1/e14/gs9353/miniconda3/envs/now-postprocess/bin/python -m distributed.cli.dask_worker tcp://10.9.105.5:41218 --nthreads 14 --memory-limit 64.00GB --name dask-worker--${JOB_ID}-- --death-timeout 60\n",
      "\n"
     ]
    }
   ],
   "source": [
    "print(cluster.job_script())"
   ]
  },
  {
   "cell_type": "code",
   "execution_count": 6,
   "metadata": {},
   "outputs": [
    {
     "data": {
      "text/html": [
       "<table style=\"border: 2px solid white;\">\n",
       "<tr>\n",
       "<td style=\"vertical-align: top; border: 0px solid white\">\n",
       "<h3>Client</h3>\n",
       "<ul>\n",
       "  <li><b>Scheduler: </b>tcp://10.9.105.5:41218\n",
       "  <li><b>Dashboard: </b><a href='http://10.9.105.5:8787/status' target='_blank'>http://10.9.105.5:8787/status</a>\n",
       "</ul>\n",
       "</td>\n",
       "<td style=\"vertical-align: top; border: 0px solid white\">\n",
       "<h3>Cluster</h3>\n",
       "<ul>\n",
       "  <li><b>Workers: </b>0</li>\n",
       "  <li><b>Cores: </b>0</li>\n",
       "  <li><b>Memory: </b>0 B</li>\n",
       "</ul>\n",
       "</td>\n",
       "</tr>\n",
       "</table>"
      ],
      "text/plain": [
       "<Client: scheduler='tcp://10.9.105.5:41218' processes=0 cores=0>"
      ]
     },
     "execution_count": 6,
     "metadata": {},
     "output_type": "execute_result"
    }
   ],
   "source": [
    "client"
   ]
  },
  {
   "cell_type": "markdown",
   "metadata": {},
   "source": [
    "Now, you can ask for ressources by launching a defined number of jobs on Raijin with `cluster.scale`. The total ressources available will be equal to those defined within the cluster times the scaling factor. "
   ]
  },
  {
   "cell_type": "code",
   "execution_count": 7,
   "metadata": {},
   "outputs": [],
   "source": [
    "cluster.scale(1)"
   ]
  },
  {
   "cell_type": "markdown",
   "metadata": {},
   "source": [
    "You can check the status of your jobs with the following command:"
   ]
  },
  {
   "cell_type": "code",
   "execution_count": 3,
   "metadata": {},
   "outputs": [
    {
     "name": "stdout",
     "output_type": "stream",
     "text": [
      "/bin/sh: myjobs: command not found\n"
     ]
    }
   ],
   "source": [
    "!qstat -u rm6294"
   ]
  },
  {
   "cell_type": "code",
   "execution_count": 4,
   "metadata": {},
   "outputs": [
    {
     "data": {
      "text/plain": [
       "b''"
      ]
     },
     "execution_count": 4,
     "metadata": {},
     "output_type": "execute_result"
    }
   ],
   "source": [
    "subprocess.check_output(['qstat', '-u', os.environ['USER']])"
   ]
  },
  {
   "cell_type": "markdown",
   "metadata": {},
   "source": [
    "## Choosing a configuration file"
   ]
  },
  {
   "cell_type": "code",
   "execution_count": 14,
   "metadata": {},
   "outputs": [],
   "source": [
    "config_file = '/g/data1/e14/gs9353/CONFIG/ecl_study.ini'"
   ]
  },
  {
   "cell_type": "markdown",
   "metadata": {},
   "source": [
    "## Opend NEMO grids and some postprocess files"
   ]
  },
  {
   "cell_type": "code",
   "execution_count": 16,
   "metadata": {},
   "outputs": [],
   "source": [
    "gridU = now.io.open_nemo_griddata_from_zarr(config_file, grid='U')\n",
    "gridU_mean = now.io.open_postprocess(config_file, 'ECL_NEMO_1990-2008_1d_grid_U_2D_mean.nc', \n",
    "                                     chunks={'simulation': 1})\n",
    "gridV = now.io.open_nemo_griddata_from_zarr(config_file, grid='V')\n",
    "gridV_mean = now.io.open_postprocess(config_file, 'ECL_NEMO_1990-2008_1d_grid_V_2D_mean.nc', \n",
    "                                     chunks={'simulation': 1})\n",
    "gridT = now.io.open_nemo_griddata_from_zarr(config_file, grid='T')\n",
    "gridT_mean = now.io.open_postprocess(config_file, 'ECL_NEMO_1990-2008_1d_grid_T_2D_mean.nc', \n",
    "                                     chunks={'simulation': 1})"
   ]
  },
  {
   "cell_type": "code",
   "execution_count": 18,
   "metadata": {},
   "outputs": [],
   "source": [
    "ux_mean = gridU_mean.uos\n",
    "taux_mean = gridU_mean.tauuo\n",
    "vy_mean = gridV_mean.vos \n",
    "tauy_mean = gridV_mean.tauvo\n",
    "ssh_mean = gridT_mean.zos\n",
    "temperature_mean = gridT_mean.tos\n",
    "salinity_mean = gridT_mean.sos"
   ]
  },
  {
   "cell_type": "code",
   "execution_count": 19,
   "metadata": {},
   "outputs": [
    {
     "name": "stderr",
     "output_type": "stream",
     "text": [
      "Worker tcp://10.9.67.15:39233 restart in Job 20315. This can be due to memory issue.\n"
     ]
    }
   ],
   "source": [
    "# Horizontal velocities\n",
    "ux = gridU.uos - gridU_mean.uos.persist()\n",
    "vy = gridV.vos - gridV_mean.vos.persist()\n",
    "# Wind stress\n",
    "taux = gridU.tauuo - gridU_mean.tauuo.persist()\n",
    "tauy = gridV.tauvo - gridV_mean.tauvo.persist()\n",
    "# Sea level\n",
    "sla = gridT.zos - gridT_mean.zos.persist()\n",
    "# Temperature and Salinity\n",
    "temperature = gridT.tos - temperature_mean.persist()\n",
    "salinity = gridT.sos - salinity_mean.persist()\n",
    "# Mixed Layer Depth\n",
    "h = gridT.mld_dt02\n",
    "# Heat Fluxes, water flux\n",
    "qnet = gridT.tohfls\n",
    "ep = gridT.wfo"
   ]
  },
  {
   "cell_type": "markdown",
   "metadata": {},
   "source": [
    "## Compute geostrophic and ageostrophic velocities\n",
    "Here, we estimate geostrophic velocities from sea level anomalies. Ageostrophic velocities are simply obtained by subtracting the geostrophic velocities to the absolute velocities."
   ]
  },
  {
   "cell_type": "code",
   "execution_count": 20,
   "metadata": {},
   "outputs": [],
   "source": [
    "ux_geo, vy_geo = now.physics.compute_geostrophic_velocities(config_file, sla)\n",
    "ux_ageo = ux - ux_geo\n",
    "vy_ageo = vy - vy_geo"
   ]
  },
  {
   "cell_type": "code",
   "execution_count": 21,
   "metadata": {},
   "outputs": [],
   "source": [
    "ux_geo_mean, vy_geo_mean = now.physics.compute_geostrophic_velocities(config_file, ssh_mean)\n",
    "ux_ageo_mean = ux_mean - ux_geo_mean\n",
    "vy_ageo_mean = vy_mean - vy_geo_mean"
   ]
  },
  {
   "cell_type": "markdown",
   "metadata": {},
   "source": [
    "## Computing Mean Eddy Kinetic Energy"
   ]
  },
  {
   "cell_type": "markdown",
   "metadata": {},
   "source": [
    "\\begin{equation}\n",
    "MKE = \\frac{1}{2} \\left(\\overline{u}^2 + \\overline{v}^2 \\right)\n",
    "\\end{equation}"
   ]
  },
  {
   "cell_type": "code",
   "execution_count": 18,
   "metadata": {},
   "outputs": [],
   "source": [
    "mke_total = now.physics.kinetic_energy(config_file, ux_mean, vy_mean)\n",
    "mke_geo = now.physics.kinetic_energy(config_file, ux_geo_mean, vy_geo_mean)\n",
    "mke_ageo = now.physics.kinetic_energy(config_file, ux_ageo_mean, vy_ageo_mean)"
   ]
  },
  {
   "cell_type": "code",
   "execution_count": 19,
   "metadata": {},
   "outputs": [],
   "source": [
    "mke = xr.Dataset({'mke': mke_total, \n",
    "                  'mke_geo': mke_geo, \n",
    "                  'mke_ageo': mke_ageo})"
   ]
  },
  {
   "cell_type": "code",
   "execution_count": 20,
   "metadata": {},
   "outputs": [],
   "source": [
    "now.io.to_postprocess(mke, config_file, 'ECL_NEMO_1990-2008_1d_Mean_Kinetic_Energy.nc', type='netcdf')"
   ]
  },
  {
   "cell_type": "markdown",
   "metadata": {},
   "source": [
    "## Computing Mean Wind Work"
   ]
  },
  {
   "cell_type": "code",
   "execution_count": 21,
   "metadata": {},
   "outputs": [],
   "source": [
    "mww_total = now.physics.wind_energy_transfer(config_file, ux_mean, vy_mean, taux_mean, tauy_mean)\n",
    "mww_geo = now.physics.wind_energy_transfer(config_file, ux_geo_mean, vy_geo_mean, taux_mean, tauy_mean)\n",
    "mww_ageo = now.physics.wind_energy_transfer(config_file, ux_ageo_mean, vy_ageo_mean, taux_mean, tauy_mean)"
   ]
  },
  {
   "cell_type": "code",
   "execution_count": 22,
   "metadata": {},
   "outputs": [],
   "source": [
    "mww = xr.Dataset({'mww': mww_total, \n",
    "                  'mww_geo': mww_geo, \n",
    "                  'mww_ageo': mww_ageo})"
   ]
  },
  {
   "cell_type": "code",
   "execution_count": 23,
   "metadata": {},
   "outputs": [],
   "source": [
    "now.io.to_postprocess(mww.assign_coords(nav_lon=sla['nav_lon'], nav_lat=sla['nav_lat']), \n",
    "                      config_file, 'ECL_NEMO_1990-2008_1d_Mean_Wind_Work.nc', type='netcdf')"
   ]
  },
  {
   "cell_type": "markdown",
   "metadata": {},
   "source": [
    "## Computing Eddy Kinetic Energy"
   ]
  },
  {
   "cell_type": "code",
   "execution_count": 18,
   "metadata": {},
   "outputs": [],
   "source": [
    "eke_total = now.physics.kinetic_energy(config_file, ux, vy).mean('time_counter')\n",
    "eke_geo = now.physics.kinetic_energy(config_file, ux_geo - ux_geo_mean, vy_geo_mean).mean('time_counter')\n",
    "eke_ageo = now.physics.kinetic_energy(config_file, ux_ageo, vy_ageo).mean('time_counter')"
   ]
  },
  {
   "cell_type": "code",
   "execution_count": 19,
   "metadata": {},
   "outputs": [],
   "source": [
    "eke = xr.Dataset({'eke': eke_total.compute(), \n",
    "                  'eke_ageo': eke_ageo.compute(), \n",
    "                  'eke_geo': eke_geo.compute()})"
   ]
  },
  {
   "cell_type": "code",
   "execution_count": 20,
   "metadata": {},
   "outputs": [],
   "source": [
    "now.io.to_postprocess(eke, config_file, 'ECL_NEMO_1990-2008_1d_Eddy_Kinetic_Energy.nc', type='netcdf')"
   ]
  },
  {
   "cell_type": "markdown",
   "metadata": {},
   "source": [
    "## Compute the Eddy Wind Work"
   ]
  },
  {
   "cell_type": "code",
   "execution_count": 26,
   "metadata": {},
   "outputs": [],
   "source": [
    "eww_total = now.physics.wind_energy_transfer(config_file, ux, vy, taux, tauy).mean('time_counter')\n",
    "eww_geo = now.physics.wind_energy_transfer(config_file, ux_geo,vy_geo, taux, tauy).mean('time_counter')\n",
    "eww_ageo = now.physics.wind_energy_transfer(config_file, ux_ageo,vy_ageo, taux, tauy).mean('time_counter')"
   ]
  },
  {
   "cell_type": "code",
   "execution_count": 29,
   "metadata": {},
   "outputs": [],
   "source": [
    "eddy_wind_work = xr.Dataset({'eww': eww_total.compute(),\n",
    "                             'eww_geo': eww_geo.compute(),\n",
    "                             'eww_ageo': eww_ageo.compute()})"
   ]
  },
  {
   "cell_type": "code",
   "execution_count": 31,
   "metadata": {},
   "outputs": [],
   "source": [
    "now.io.to_postprocess(eddy_wind_work, config_file, 'ECL_NEMO_1990-2008_1d_Eddy_Wind_Work.nc', type='netcdf')"
   ]
  },
  {
   "cell_type": "markdown",
   "metadata": {},
   "source": [
    "# Eddy Kinetic Energy budget\n",
    "TODO"
   ]
  },
  {
   "cell_type": "markdown",
   "metadata": {},
   "source": [
    "# Salinity budget"
   ]
  },
  {
   "cell_type": "markdown",
   "metadata": {},
   "source": [
    "$ R_S = - \\langle u_g' \\cdot \\nabla S'\\rangle  \n",
    "        - \\langle u_a' \\cdot \\nabla S'\\rangle \n",
    "        - \\langle u_g \\rangle \\cdot \\nabla \\langle S \\rangle \n",
    "        - \\langle u_a \\rangle \\cdot \\nabla \\langle S \\rangle \n",
    "        + \\langle \\frac{(E - P) S}{h}\\rangle $"
   ]
  },
  {
   "cell_type": "markdown",
   "metadata": {},
   "source": [
    "* Eddy salinity fluxes due to geostrophic and ageostrophic motions\n",
    "* Mean salinity fluxes induced by mean geostrophic and ageostrophic motions\n",
    "* Water fluxes at surface that freshen or salten"
   ]
  },
  {
   "cell_type": "code",
   "execution_count": 21,
   "metadata": {},
   "outputs": [],
   "source": [
    "esf_geo = now.physics.tracer_flux(config_file, ux_geo, vy_geo, salinity).mean('time_counter').compute()\n",
    "esf_ageo = now.physics.tracer_flux(config_file, ux_ageo, vy_ageo, salinity).mean('time_counter').compute()\n",
    "msf_geo = now.physics.tracer_flux(config_file, ux_geo_mean, vy_geo_mean, salinity_mean).compute()\n",
    "msf_ageo = now.physics.tracer_flux(config_file, ux_ageo_mean, vy_ageo_mean, salinity_mean).compute()\n",
    "ssf = (ep * (salinity + salinity_mean) / h).mean('time_counter').compute()\n",
    "residual = - esf_geo - esf_ageo - msf_geo - msf_ageo + ssf"
   ]
  },
  {
   "cell_type": "code",
   "execution_count": 23,
   "metadata": {},
   "outputs": [],
   "source": [
    "salinity_budget = xr.Dataset({'msf_geo': msf_geo,\n",
    "                              'msf_ageo': msf_ageo,\n",
    "                              'esf_geo': esf_geo,\n",
    "                              'esf_ageo': esf_ageo,\n",
    "                              'ssf': ssf,\n",
    "                              'residual': residual})"
   ]
  },
  {
   "cell_type": "code",
   "execution_count": 24,
   "metadata": {},
   "outputs": [],
   "source": [
    "now.io.to_postprocess(salinity_budget.assign_coords(nav_lon=sla['nav_lon'], nav_lat=sla['nav_lat']), \n",
    "                      config_file, 'ECL_NEMO_1990-2008_1d_SSS_budget.nc', type='netcdf')"
   ]
  },
  {
   "cell_type": "markdown",
   "metadata": {},
   "source": [
    "# Temperature budget"
   ]
  },
  {
   "cell_type": "markdown",
   "metadata": {},
   "source": [
    "$ R_T = - \\langle u_g' \\cdot \\nabla T'\\rangle  \n",
    "        - \\langle u_a' \\cdot \\nabla T'\\rangle \n",
    "        - \\langle u_g \\rangle \\cdot \\nabla \\langle T \\rangle \n",
    "        - \\langle u_a \\rangle \\cdot \\nabla \\langle T \\rangle \n",
    "        + \\langle \\frac{Q_{net}}{\\rho_0 c_p h}\\rangle $"
   ]
  },
  {
   "cell_type": "markdown",
   "metadata": {},
   "source": [
    "* Eddy heat fluxes due to geostrophic and ageostrophic motions\n",
    "* Mean heat fluxes induced by mean geostrophic and ageostrophic motions\n",
    "* Atmospheric total heat fluxes at surface"
   ]
  },
  {
   "cell_type": "code",
   "execution_count": 22,
   "metadata": {},
   "outputs": [],
   "source": [
    "rho0 = 1025\n",
    "cp = 4180"
   ]
  },
  {
   "cell_type": "code",
   "execution_count": 27,
   "metadata": {},
   "outputs": [],
   "source": [
    "ehf_geo = now.physics.tracer_flux.compute_tracer_flux(config_file, ux_geo, vy_geo, temperature).mean('time_counter').compute()\n",
    "ehf_ageo = now.physics.tracer_flux.compute_tracer_flux(config_file, ux_ageo, vy_ageo, temperature).mean('time_counter').compute()\n",
    "mhf_geo = now.physics.tracer_flux.compute_tracer_flux(config_file, ux_geo_mean, vy_geo_mean, temperature_mean).compute()\n",
    "mhf_ageo = now.physics.tracer_flux.compute_tracer_flux(config_file, ux_ageo_mean, vy_ageo_mean, temperature_mean).compute()\n",
    "shf = (qnet / (rho0 * cp * h)).mean('time_counter').compute()\n",
    "residual = - ehf_geo - ehf_ageo - mhf_geo - mhf_ageo + shf"
   ]
  },
  {
   "cell_type": "code",
   "execution_count": 28,
   "metadata": {},
   "outputs": [],
   "source": [
    "temperature_budget = xr.Dataset({'mhf_geo': mhf_geo,\n",
    "                                 'mhf_ageo': mhf_ageo,\n",
    "                                 'ehf_geo': ehf_geo,\n",
    "                                 'ehf_ageo': ehf_ageo,\n",
    "                                 'shf': shf,\n",
    "                                 'residual': residual})"
   ]
  },
  {
   "cell_type": "code",
   "execution_count": 29,
   "metadata": {},
   "outputs": [],
   "source": [
    "now.io.to_postprocess(temperature_budget.assign_coords(nav_lon=sla['nav_lon'], nav_lat=sla['nav_lat']), \n",
    "                      config_file, 'ECL_NEMO_1990-2008_1d_SST_budget.nc', type='netcdf')"
   ]
  },
  {
   "cell_type": "markdown",
   "metadata": {},
   "source": [
    "**Don't forget to close the client and the cluster to avoid Raijin debiting resources** "
   ]
  },
  {
   "cell_type": "code",
   "execution_count": 17,
   "metadata": {},
   "outputs": [],
   "source": [
    "client.close()\n",
    "cluster.close()"
   ]
  },
  {
   "cell_type": "markdown",
   "metadata": {},
   "source": [
    "# Ekman pumping\n",
    "TODO"
   ]
  }
 ],
 "metadata": {
  "kernelspec": {
   "display_name": "Python [conda env:now]",
   "language": "python",
   "name": "conda-env-now-py"
  },
  "language_info": {
   "codemirror_mode": {
    "name": "ipython",
    "version": 3
   },
   "file_extension": ".py",
   "mimetype": "text/x-python",
   "name": "python",
   "nbconvert_exporter": "python",
   "pygments_lexer": "ipython3",
   "version": "3.6.7"
  }
 },
 "nbformat": 4,
 "nbformat_minor": 4
}
