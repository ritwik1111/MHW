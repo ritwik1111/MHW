{
 "cells": [
  {
   "cell_type": "markdown",
   "metadata": {},
   "source": [
    "# Applying MHW defintion to NOW data\n",
    "\n",
    "This has the code required to calculate the 90th percentile and climatology required by the Hobday (2016) paper."
   ]
  },
  {
   "cell_type": "markdown",
   "metadata": {},
   "source": [
    "Here we import the needed modules, and initialize a dask cluster. "
   ]
  },
  {
   "cell_type": "code",
   "execution_count": 1,
   "metadata": {},
   "outputs": [
    {
     "name": "stdout",
     "output_type": "stream",
     "text": [
      "Populating the interactive namespace from numpy and matplotlib\n"
     ]
    },
    {
     "data": {
      "text/html": [
       "<table style=\"border: 2px solid white;\">\n",
       "<tr>\n",
       "<td style=\"vertical-align: top; border: 0px solid white\">\n",
       "<h3>Client</h3>\n",
       "<ul>\n",
       "  <li><b>Scheduler: </b>inproc://10.0.64.28/28630/1\n",
       "  <li><b>Dashboard: </b><a href='http://localhost:8787/status' target='_blank'>http://localhost:8787/status</a>\n",
       "</ul>\n",
       "</td>\n",
       "<td style=\"vertical-align: top; border: 0px solid white\">\n",
       "<h3>Cluster</h3>\n",
       "<ul>\n",
       "  <li><b>Workers: </b>1</li>\n",
       "  <li><b>Cores: </b>8</li>\n",
       "  <li><b>Memory: </b>33.67 GB</li>\n",
       "</ul>\n",
       "</td>\n",
       "</tr>\n",
       "</table>"
      ],
      "text/plain": [
       "<Client: scheduler='inproc://10.0.64.28/28630/1' processes=1 cores=8>"
      ]
     },
     "execution_count": 1,
     "metadata": {},
     "output_type": "execute_result"
    }
   ],
   "source": [
    "import xarray as xr\n",
    "import now\n",
    "import numpy as np\n",
    "import time\n",
    "from datetime import date\n",
    "from matplotlib import pyplot as plt\n",
    "from dask.distributed import LocalCluster, Client\n",
    "import dask as da\n",
    "import marineHeatWaves as mhw\n",
    "%pylab inline\n",
    "local_dir = \"/g/data1a/e14/rm6294/dask-workers\"\n",
    "cluster = LocalCluster(processes=False, local_dir=local_dir)\n",
    "client = Client(cluster)\n",
    "client"
   ]
  },
  {
   "cell_type": "code",
   "execution_count": null,
   "metadata": {},
   "outputs": [],
   "source": [
    "sst = xr.open_mfdataset('/g/data1a/e14/rm6294/matlab_trial/')"
   ]
  },
  {
   "cell_type": "code",
   "execution_count": 2,
   "metadata": {},
   "outputs": [],
   "source": [
    "sst_reshaped = xr.open_zarr('/g/data1/e14/gs9353/POST-PROCESS/MHWs/SST_per_dayofyear_Present_vs_Future_50x50.zarr')['tos'].sel(simulation='Present')\n",
    "'''\n",
    "The following circularises the data, making rolling window processes possible. Guillaume pre did this for ^\n",
    "sst_reshaped = sst_reshaped.isel(dayofyear = slice(0,-1)) # Removes day 366\n",
    "start = sst_reshaped[:31]\n",
    "start['dayofyear'] = range(366,397)\n",
    "end = sst_reshaped[-31:]\n",
    "end['dayofyear'] = range(-30, 1)\n",
    "'''\n",
    "circular_sst = sst_reshaped\n",
    "#circular_sst = circular_sst.chunk({'x' : 30, 'y' : 30, 'dayofyear' : 31})"
   ]
  },
  {
   "cell_type": "code",
   "execution_count": 3,
   "metadata": {},
   "outputs": [
    {
     "data": {
      "text/plain": [
       "<xarray.DataArray 'tos' (dayofyear: 427, year: 19, y: 289, x: 431)>\n",
       "dask.array<shape=(427, 19, 289, 431), dtype=float32, chunksize=(427, 19, 50, 50)>\n",
       "Coordinates:\n",
       "  * dayofyear   (dayofyear) int64 -30 -29 -28 -27 -26 ... 392 393 394 395 396\n",
       "    nav_lat     (y, x) float32 dask.array<shape=(289, 431), chunksize=(50, 50)>\n",
       "    nav_lon     (y, x) float32 dask.array<shape=(289, 431), chunksize=(50, 50)>\n",
       "    simulation  <U7 'Present'\n",
       "  * year        (year) int64 1990 1991 1992 1993 1994 ... 2005 2006 2007 2008\n",
       "Dimensions without coordinates: y, x\n",
       "Attributes:\n",
       "    interval_operation:  360s\n",
       "    interval_write:      1d\n",
       "    long_name:           sea_surface_temperature\n",
       "    online_operation:    average\n",
       "    units:               degC"
      ]
     },
     "execution_count": 3,
     "metadata": {},
     "output_type": "execute_result"
    }
   ],
   "source": [
    "circular_sst"
   ]
  },
  {
   "cell_type": "code",
   "execution_count": 11,
   "metadata": {
    "scrolled": true
   },
   "outputs": [
    {
     "name": "stderr",
     "output_type": "stream",
     "text": [
      "/g/data1/e14/rm6294/miniconda3/envs/now-postprocess/lib/python3.6/site-packages/dask/array/numpy_compat.py:28: RuntimeWarning: divide by zero encountered in true_divide\n",
      "  x = np.divide(x1, x2, out)\n",
      "/g/data1/e14/rm6294/miniconda3/envs/now-postprocess/lib/python3.6/site-packages/dask/array/numpy_compat.py:28: RuntimeWarning: invalid value encountered in true_divide\n",
      "  x = np.divide(x1, x2, out)\n",
      "/g/data1/e14/rm6294/miniconda3/envs/now-postprocess/lib/python3.6/site-packages/xarray/core/nanops.py:161: RuntimeWarning: Mean of empty slice\n",
      "  return np.nanmean(a, axis=axis, dtype=dtype)\n",
      "/g/data1/e14/rm6294/miniconda3/envs/now-postprocess/lib/python3.6/site-packages/dask/array/numpy_compat.py:28: RuntimeWarning: divide by zero encountered in true_divide\n",
      "  x = np.divide(x1, x2, out)\n",
      "/g/data1/e14/rm6294/miniconda3/envs/now-postprocess/lib/python3.6/site-packages/dask/array/numpy_compat.py:28: RuntimeWarning: invalid value encountered in true_divide\n",
      "  x = np.divide(x1, x2, out)\n",
      "/g/data1/e14/rm6294/miniconda3/envs/now-postprocess/lib/python3.6/site-packages/xarray/core/nanops.py:161: RuntimeWarning: Mean of empty slice\n",
      "  return np.nanmean(a, axis=axis, dtype=dtype)\n"
     ]
    },
    {
     "name": "stdout",
     "output_type": "stream",
     "text": [
      "CPU times: user 1min 30s, sys: 2min 23s, total: 3min 54s\n",
      "Wall time: 53.2 s\n"
     ]
    }
   ],
   "source": [
    "%%time\n",
    "#Climatology \n",
    "raw_sst = circular_sst.mean('year')\n",
    "sst_climatology_smooth_fat = raw_sst.rolling(dayofyear = 11, center = True).mean()\n",
    "sst_climatology = sst_climatology_smooth_fat.rolling(dayofyear = 31, center = True).mean()"
   ]
  },
  {
   "cell_type": "code",
   "execution_count": 12,
   "metadata": {},
   "outputs": [
    {
     "name": "stderr",
     "output_type": "stream",
     "text": [
      "/g/data1/e14/rm6294/miniconda3/envs/now-postprocess/lib/python3.6/site-packages/dask/array/numpy_compat.py:28: RuntimeWarning: divide by zero encountered in true_divide\n",
      "  x = np.divide(x1, x2, out)\n",
      "/g/data1/e14/rm6294/miniconda3/envs/now-postprocess/lib/python3.6/site-packages/dask/array/numpy_compat.py:28: RuntimeWarning: invalid value encountered in true_divide\n",
      "  x = np.divide(x1, x2, out)\n"
     ]
    },
    {
     "name": "stdout",
     "output_type": "stream",
     "text": [
      "CPU times: user 51.2 s, sys: 1min 46s, total: 2min 37s\n",
      "Wall time: 1min 18s\n"
     ]
    }
   ],
   "source": [
    "%%time\n",
    "sst_climatology = sst_climatology.isel(dayofyear = slice(31,-31))\n",
    "sst_climatology.to_netcdf('/g/data1a/e14/rm6294/NOWMHW/orig/pastClim.nc')"
   ]
  },
  {
   "cell_type": "code",
   "execution_count": 4,
   "metadata": {
    "scrolled": true
   },
   "outputs": [],
   "source": [
    "#Threshold. Same here, no slicing:\n",
    "percRolling = circular_sst.rolling(dayofyear=11, center=True).construct('rolling_days')\n",
    "\n",
    "# This takes in the sst, performs the percentile calculation, then creates a new dimension and coordinate names \n",
    "# to prepapre the data for the final output\n",
    "stacked = percRolling.stack(z = ('rolling_days', 'year'))\n",
    "rawPerc_data = da.array.apply_along_axis(np.nanpercentile, stacked.get_axis_num('z'), stacked.data, 90)\n",
    "sst_coords = circular_sst.coords\n",
    "new_coords = {name : sst_coords[name] for name in sst_coords if name != 'year'}\n",
    "new_dims = [name for name in circular_sst.dims if name != 'year']\n",
    "rawPerc = xr.DataArray(rawPerc_data, coords = new_coords, dims = new_dims)"
   ]
  },
  {
   "cell_type": "code",
   "execution_count": 5,
   "metadata": {},
   "outputs": [
    {
     "name": "stderr",
     "output_type": "stream",
     "text": [
      "/g/data1/e14/rm6294/miniconda3/envs/now-postprocess/lib/python3.6/site-packages/numpy/lib/function_base.py:3405: RuntimeWarning: All-NaN slice encountered\n",
      "  r = func(a, **kwargs)\n"
     ]
    },
    {
     "name": "stdout",
     "output_type": "stream",
     "text": [
      "CPU times: user 5h 41min 16s, sys: 3h 7min 40s, total: 8h 48min 56s\n",
      "Wall time: 5h 35min 14s\n"
     ]
    }
   ],
   "source": [
    "%%time\n",
    "rawPerc.to_netcdf('/g/data1a/e14/rm6294/NOWMHW/orig/rawPercentiles.nc')"
   ]
  },
  {
   "cell_type": "code",
   "execution_count": 6,
   "metadata": {},
   "outputs": [
    {
     "name": "stderr",
     "output_type": "stream",
     "text": [
      "/g/data1/e14/rm6294/miniconda3/envs/now-postprocess/lib/python3.6/site-packages/xarray/core/nanops.py:161: RuntimeWarning: Mean of empty slice\n",
      "  return np.nanmean(a, axis=axis, dtype=dtype)\n"
     ]
    },
    {
     "name": "stdout",
     "output_type": "stream",
     "text": [
      "Data smoothed, DONE.\n",
      "CPU times: user 18 s, sys: 13.4 s, total: 31.4 s\n",
      "Wall time: 16.5 s\n"
     ]
    }
   ],
   "source": [
    "%%time\n",
    "#Final rolling mean over a month (smoothing)\n",
    "rawPerc = xr.open_dataset('/g/data1a/e14/rm6294/NOWMHW/orig/rawPercentiles.nc')\n",
    "sst_threshold = rawPerc.rolling(dayofyear=31, center = True).mean()\n",
    "print(\"Data smoothed, DONE.\")\n",
    "sst_threshold = sst_threshold.isel(dayofyear = slice(31,-31))\n",
    "sst_threshold.to_netcdf('/g/data1a/e14/rm6294/NOWMHW/orig/pastThresh.nc')"
   ]
  }
 ],
 "metadata": {
  "kernelspec": {
   "display_name": "Python 3",
   "language": "python",
   "name": "python3"
  },
  "language_info": {
   "codemirror_mode": {
    "name": "ipython",
    "version": 3
   },
   "file_extension": ".py",
   "mimetype": "text/x-python",
   "name": "python",
   "nbconvert_exporter": "python",
   "pygments_lexer": "ipython3",
   "version": "3.6.7"
  }
 },
 "nbformat": 4,
 "nbformat_minor": 2
}
