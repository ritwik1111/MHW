{
 "cells": [
  {
   "cell_type": "code",
   "execution_count": 1,
   "metadata": {},
   "outputs": [
    {
     "name": "stdout",
     "output_type": "stream",
     "text": [
      "Populating the interactive namespace from numpy and matplotlib\n"
     ]
    }
   ],
   "source": [
    "import xarray as xr\n",
    "import now\n",
    "import numpy as np\n",
    "from datetime import date\n",
    "from matplotlib import pyplot as plt\n",
    "from dask.distributed import LocalCluster, Client\n",
    "import dask as da\n",
    "from scipy.ndimage import label, generate_binary_structure\n",
    "import time\n",
    "from cartopy import config\n",
    "import cartopy.crs as ccrs\n",
    "%pylab inline"
   ]
  },
  {
   "cell_type": "code",
   "execution_count": null,
   "metadata": {},
   "outputs": [],
   "source": [
    "cluster = LocalCluster(processes=False, local_dir= \"/g/data1a/e14/rm6294/dask-workers\")\n",
    "client = Client(cluster)\n",
    "client"
   ]
  },
  {
   "cell_type": "code",
   "execution_count": null,
   "metadata": {},
   "outputs": [],
   "source": [
    "# First, importing all the data - change file according to which animation you want to create.\n",
    "localDir = \"/g/data1a/e14/rm6294/NOWMHW/\"\n",
    "#sev_Past = xr.open_dataarray(localDir + \"severityMHWNOW_pastRun.nc\")\n",
    "sev = xr.open_dataarray(localDir + \"severityMHWNOW_futureRun.nc\").load()"
   ]
  },
  {
   "cell_type": "code",
   "execution_count": null,
   "metadata": {},
   "outputs": [],
   "source": [
    "%%time\n",
    "plt.rcParams[\"figure.figsize\"] = [16,9]\n",
    "#Destination for output files:\n",
    "plot_dir = \"/g/data1a/e14/rm6294/NOWMHW/futMHWPlots/\"\n",
    "lenT = 6940 # known previously\n",
    "i = 0\n",
    "\n",
    "for i in range(0, lenT  + 1): \n",
    "    ax = plt.subplot(111, projection=ccrs.PlateCarree(central_longitude=0))\n",
    "    now.plot.add_map(lon_min = 90, lon_max = 180, lat_min = -55,ax = ax, lat_max = 4.5)\n",
    "    sev_Fut.isel(time_counter = i).plot(x='nav_lon', y='nav_lat', cmap = 'hot_r',vmin = 0, vmax = 4.5, ax = ax);\n",
    "\n",
    "    plt.savefig(plot_dir + 'mhwPlot_{:0>4d}.png'.format(i), bbox_inches='tight')\n",
    "    plt.clf()\n",
    "    \n",
    "    if i%100 == 0: \n",
    "        print('Saved figure', i)"
   ]
  }
 ],
 "metadata": {
  "kernelspec": {
   "display_name": "Python 3",
   "language": "python",
   "name": "python3"
  },
  "language_info": {
   "codemirror_mode": {
    "name": "ipython",
    "version": 3
   },
   "file_extension": ".py",
   "mimetype": "text/x-python",
   "name": "python",
   "nbconvert_exporter": "python",
   "pygments_lexer": "ipython3",
   "version": "3.6.7"
  }
 },
 "nbformat": 4,
 "nbformat_minor": 2
}
