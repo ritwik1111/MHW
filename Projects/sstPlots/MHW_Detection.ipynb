{
 "cells": [
  {
   "cell_type": "markdown",
   "metadata": {},
   "source": [
    "# Marine Heat Wave analysis\n",
    "The purpose of this notebook is to take in SST data, along with previously computed climatology and threshold, process these and output all the MHW events that occur in the data"
   ]
  },
  {
   "cell_type": "markdown",
   "metadata": {},
   "source": [
    "First, we import the data and required modules. "
   ]
  },
  {
   "cell_type": "code",
   "execution_count": null,
   "metadata": {},
   "outputs": [],
   "source": [
    "import xarray as xr\n",
    "import pandas as pd\n",
    "import now\n",
    "import numpy as np\n",
    "import dask as da\n",
    "import scipy.ndimage as ndimage\n",
    "import time\n",
    "import cartopy.crs as ccrs\n",
    "import dask_image.ndmeasure\n",
    "from datetime import date\n",
    "from matplotlib import pyplot as plt\n",
    "from dask.distributed import LocalCluster, Client\n",
    "from cartopy import config\n",
    "%pylab inline"
   ]
  },
  {
   "cell_type": "code",
   "execution_count": null,
   "metadata": {},
   "outputs": [],
   "source": [
    "plt.rcParams[\"figure.figsize\"] = [10,5]\n",
    "cluster = LocalCluster(processes=False, local_dir= \"/g/data1a/e14/rm6294/dask-workers\")\n",
    "client = Client(cluster)\n",
    "client"
   ]
  },
  {
   "cell_type": "code",
   "execution_count": null,
   "metadata": {},
   "outputs": [],
   "source": [
    "# Opens Climatology and MHW SST threshold files, that have been created before.\n",
    "# Note: p stands for past, f for future\n",
    "localDir = \"/g/data1a/e14/rm6294/NOWMHW/\"\n",
    "pThresh = xr.open_dataarray(localDir + 'pastThreshRep.nc')\n",
    "pClim = xr.open_dataarray(localDir + 'pastClimRep.nc')\n",
    "fThresh = xr.open_dataarray(localDir + 'futureThreshRep.nc')\n",
    "fClim = xr.open_dataarray(localDir + 'futureClimRep.nc')"
   ]
  },
  {
   "cell_type": "code",
   "execution_count": null,
   "metadata": {},
   "outputs": [],
   "source": [
    "# Opens NOW SST data, from which we need the SST.\n",
    "cfg = 'present_vs_future.ini'\n",
    "sst = now.io.open_nemo_griddata_from_zarr(cfg, grid='T')['tos'] #tos means sst\n",
    "# SST contains both future and past run. We now split that up.\n",
    "sstPast = sst.sel(simulation = 'Present')\n",
    "sstFut = sst.sel(simulation = 'Future')"
   ]
  },
  {
   "cell_type": "code",
   "execution_count": null,
   "metadata": {},
   "outputs": [],
   "source": [
    "# NOW data is daily, and runs from 1990/01/01T12:00:00 to 2008/12/31T12:00:00. We use this to create our t vector.\n",
    "#Two lines below taken from example_synthetic file in MHW github\n",
    "t = np.arange(date(1990,1,1).toordinal(),date(2008,12,31).toordinal()+1)\n",
    "dates = [date.fromordinal(tt.astype(int)) for tt in t]"
   ]
  },
  {
   "cell_type": "markdown",
   "metadata": {},
   "source": [
    "## Looking for MHW\n",
    "The method we will be using to identify MHW is to:\n",
    "* Create a mask on top of the data, which has a binary True/False representing whether the sst at the location is above the corressponding threshold. \n",
    "    * Using the mask, try and find consecutive days where the threshold is crossed, as these represent the MHW.\n",
    "* Once we have all the SSTs that cross the threshold, we will the apply the duration requirement, and look for SSTs that cross the threshold for 5 consecutive days"
   ]
  },
  {
   "cell_type": "markdown",
   "metadata": {},
   "source": [
    "### Creating a Mask (Crossing the threshold)\n",
    "We are looking for SST to cross the threshold. We will do this by:\n",
    "* Subtracting the background climatology from both the threshold and sst, giving us theshold anomaly (thresha) and SST anomaly (ssta).\n",
    "* Dividing ssta by thresha.\n",
    "* Saving the severity data, so we can simply call it for use in the animation section.\n",
    "This process will not only give us a matrix of threshold crosses (as ssta > thresha at this points, ssta/thresa > 1), but also tell us about the severity of the MHW, as temperatures 2 thresholds away from the background will be represented with a two in the matrix and so on."
   ]
  },
  {
   "cell_type": "markdown",
   "metadata": {},
   "source": [
    "##### Note: Current looking at Future SSTs compared to a future Clim. The threshold is created by calculating the difference between the past percentile threshold and climatology & then adding that to the future Clim (done elsewhere)."
   ]
  },
  {
   "cell_type": "code",
   "execution_count": null,
   "metadata": {},
   "outputs": [],
   "source": [
    "%%time\n",
    "# Finding thresha and ssta\n",
    "thresha = fThresh.chunk({'x':50, 'y':50, 'time_counter':365}) - fClim.chunk({'x':50, 'y':50, 'time_counter':365})\n",
    "ssta = sstFut.chunk({'x':50, 'y':50, 'time_counter':365}) - fClim.chunk({'x':50, 'y':50, 'time_counter':365})"
   ]
  },
  {
   "cell_type": "code",
   "execution_count": null,
   "metadata": {},
   "outputs": [],
   "source": [
    "%%time\n",
    "mhws = xr.where(ssta > thresha, ssta/thresha, 0)\n",
    "\n",
    "# The next line removes any points that were made very large due to epsilon error in the ssta/thresha div\n",
    "mhws = xr.where(mhws > 10, 0, mhws)\n",
    "\n",
    "mhws['nav_lon'] = mhws['nav_lon'] % 360 "
   ]
  },
  {
   "cell_type": "code",
   "execution_count": null,
   "metadata": {},
   "outputs": [],
   "source": [
    "# Saving the severity data. This is only the halfway point in the process - with duration still to go.\n",
    "mhws.chunk({'x': 431, 'y':289, 'time_counter':6940}).to_netcdf(\"/g/data1a/e14/rm6294/NOWMHW/severityMHWNOW_futRun.nc\")"
   ]
  },
  {
   "cell_type": "code",
   "execution_count": null,
   "metadata": {},
   "outputs": [],
   "source": [
    "ax = plt.subplot(111, projection=ccrs.PlateCarree(central_longitude=0))\n",
    "now.plot.add_map(lon_min = 90, lon_max = 180, lat_min = -55,ax = ax, lat_max = 5)\n",
    "mhws.isel(time_counter = 2).plot(x='nav_lon', y='nav_lat', cmap = 'hot_r',vmin = 0, vmax = 4.5, ax = ax);\n",
    "#plt.savefig(\"/g/data1a/e14/rm6294/NOWMHW/MHWPlots/\" + 'mhwPlot_{:0>3d}.png'.format(i),bbox_inches='tight')"
   ]
  },
  {
   "cell_type": "markdown",
   "metadata": {},
   "source": [
    "## Checking for duration\n",
    "We now have all the SSTs that cross our threshold. This section will aim to find the events that meet the 5 consecutive days with at most a 2 day gap criterion. To do this we will:\n",
    "* For each time series, track how long each MHW occurs for.\n",
    "* Eliminate those that are less than 5 days long "
   ]
  },
  {
   "cell_type": "code",
   "execution_count": null,
   "metadata": {},
   "outputs": [],
   "source": [
    "# Starting with looking at future MHWs\n",
    "# We are starting with the saved mhw files, which have been saved after the above mask and comparison procedure was \n",
    "# executed\n",
    "localDir = \"/g/data1a/e14/rm6294/NOWMHW/\"\n",
    "mhws = xr.open_dataarray(localDir + 'severityMHWNOW_futRun.nc')"
   ]
  },
  {
   "cell_type": "code",
   "execution_count": null,
   "metadata": {},
   "outputs": [],
   "source": [
    "chunk_size = 10"
   ]
  },
  {
   "cell_type": "code",
   "execution_count": null,
   "metadata": {},
   "outputs": [],
   "source": [
    "mhws = mhws.chunk({'x': chunk_size, 'y': chunk_size})"
   ]
  },
  {
   "cell_type": "code",
   "execution_count": null,
   "metadata": {},
   "outputs": [],
   "source": [
    "mhws"
   ]
  },
  {
   "cell_type": "code",
   "execution_count": null,
   "metadata": {},
   "outputs": [],
   "source": [
    "def day2ns(days):\n",
    "    # Converts days to nanoseconds. days -> hours -> seconds -> nanoseconds\n",
    "    return int(days * 24 * 3600 * 1e9)"
   ]
  },
  {
   "cell_type": "code",
   "execution_count": null,
   "metadata": {},
   "outputs": [],
   "source": [
    "struc = np.zeros((3,3,3))\n",
    "# Just looking for consecutive SST threshold crosses in the time dimension:\n",
    "struc[:,1,1] = 1\n",
    "labeled_array, num_features = dask_image.ndmeasure.label(mhws.data, structure = struc)"
   ]
  },
  {
   "cell_type": "code",
   "execution_count": null,
   "metadata": {},
   "outputs": [],
   "source": [
    "%%time\n",
    "labeled_array = labeled_array.compute()\n",
    "num_features = num_features.compute()"
   ]
  },
  {
   "cell_type": "code",
   "execution_count": null,
   "metadata": {},
   "outputs": [],
   "source": [
    "# Converting from date-time to nanoseconds\n",
    "mhw_dates = pd.to_numeric(mhws['time_counter'])\n",
    "\n",
    "# Creates mhw_dur object which has a time series at each grid point\n",
    "mhw_dur = xr.broadcast(mhws, mhw_dates)[1]"
   ]
  },
  {
   "cell_type": "code",
   "execution_count": null,
   "metadata": {},
   "outputs": [],
   "source": [
    "lbl = xr.full_like(mhws, labeled_array)\n",
    "lbl = lbl.chunk({'x' : 50,'y' : 50})"
   ]
  },
  {
   "cell_type": "code",
   "execution_count": null,
   "metadata": {},
   "outputs": [],
   "source": [
    "# Sets all points in mhw_dur where SST didn't cross threshold to 0. Might be useless, as max and min functions should \n",
    "# work regardless\n",
    "mhw_dur = xr.where(lbl > 0, mhw_dur, 0)  "
   ]
  },
  {
   "cell_type": "code",
   "execution_count": null,
   "metadata": {},
   "outputs": [],
   "source": [
    "%%time\n",
    "maxMHW = dask_image.ndmeasure.maximum(mhw_dur, labels=lbl)"
   ]
  },
  {
   "cell_type": "code",
   "execution_count": null,
   "metadata": {
    "scrolled": true
   },
   "outputs": [],
   "source": [
    "%%time\n",
    "minMHW = dask_image.ndmeasure.minimum(mhw_dur, labels=lbl)"
   ]
  },
  {
   "cell_type": "code",
   "execution_count": null,
   "metadata": {},
   "outputs": [],
   "source": [
    "maxMHW"
   ]
  },
  {
   "cell_type": "code",
   "execution_count": null,
   "metadata": {},
   "outputs": [],
   "source": [
    "# Calculates the length of all potential MHW events.\n",
    "dur = maxMHW - minMHW + day2ns(1) \n",
    "\n",
    "# converting minDur (default = 5) days to nanoseconds\n",
    "minDur = 5 # default ^\n",
    "minDur_ns = day2ns(minDur) \n",
    "# Finds the event numbers of MHWs with duration >= minDur_ns. \n",
    "failed_ev_num = da.array.where(dur < minDur_ns)[0]  + 1 # Adding 1 so that event number matches with value in labeled_array. "
   ]
  },
  {
   "cell_type": "code",
   "execution_count": null,
   "metadata": {},
   "outputs": [],
   "source": [
    "%%time\n",
    "failed_ev_num = failed_ev_num.compute()"
   ]
  },
  {
   "cell_type": "code",
   "execution_count": null,
   "metadata": {},
   "outputs": [],
   "source": [
    "%%time\n",
    "lbl = lbl.compute()"
   ]
  },
  {
   "cell_type": "code",
   "execution_count": null,
   "metadata": {},
   "outputs": [],
   "source": [
    "%%time\n",
    "# objs has the location of each labeled event \n",
    "#i.e objs[0] is the location of the event 1, objs[10] location of event 11  \n",
    "objs = ndimage.find_objects(lbl)\n",
    "\n",
    "# failed_objs has the location for all the failed events in labeled_array \n",
    "failed_objs = [objs[i - 1] for i in failed_ev_num]"
   ]
  },
  {
   "cell_type": "code",
   "execution_count": null,
   "metadata": {},
   "outputs": [],
   "source": [
    "for x in failed_objs:\n",
    "    labeled_array[x] = 0"
   ]
  },
  {
   "cell_type": "code",
   "execution_count": null,
   "metadata": {},
   "outputs": [],
   "source": [
    "mhw_preGap = xr.where(lbl > 0, mhwSub, 0)"
   ]
  },
  {
   "cell_type": "code",
   "execution_count": null,
   "metadata": {},
   "outputs": [],
   "source": []
  },
  {
   "cell_type": "markdown",
   "metadata": {},
   "source": [
    "# Trials"
   ]
  },
  {
   "cell_type": "markdown",
   "metadata": {},
   "source": [
    "#### Here, we try and try a solution to implement the duration definiton for MHWs. \n",
    "We will use a subset of the dataset to do this. Our approach will consider the time series at each grid point and calculate the duration for of consecutive MHW events. If the duration is less than 5 days, we will set it to zero."
   ]
  },
  {
   "cell_type": "code",
   "execution_count": null,
   "metadata": {},
   "outputs": [],
   "source": [
    "localDir = \"/g/data1a/e14/rm6294/NOWMHW/\"\n",
    "mhws = xr.open_dataarray(localDir + 'severityMHWNOW_futRun.nc')\n",
    "# Creating subset\n",
    "mhwSub = mhws.isel(x = slice(170,270),y = slice(0,100))"
   ]
  },
  {
   "cell_type": "code",
   "execution_count": null,
   "metadata": {},
   "outputs": [],
   "source": [
    "chunk_size = 20"
   ]
  },
  {
   "cell_type": "code",
   "execution_count": null,
   "metadata": {},
   "outputs": [],
   "source": [
    "mhwSub = mhwSub.chunk({'x': chunk_size, 'y': chunk_size})\n",
    "mhwSub"
   ]
  },
  {
   "cell_type": "code",
   "execution_count": null,
   "metadata": {},
   "outputs": [],
   "source": [
    "# Plot shows approximately what area we are considering.\n",
    "ax = plt.subplot(111, projection=ccrs.PlateCarree(central_longitude=0))\n",
    "now.plot.add_map(lon_min = 90, lon_max = 180, lat_min = -55,ax = ax, lat_max = 4.5)\n",
    "mhwSub.isel(time_counter = 6935).plot(x = 'nav_lon', y = 'nav_lat', cmap = 'hot_r', ax = ax);"
   ]
  },
  {
   "cell_type": "markdown",
   "metadata": {},
   "source": [
    "#### Date approach"
   ]
  },
  {
   "cell_type": "code",
   "execution_count": 58,
   "metadata": {},
   "outputs": [],
   "source": [
    "def day2ns(days):\n",
    "    # Converts days to nanoseconds. Days -> Hours -> Seconds -> nanoseconds\n",
    "    return int(days * 24 * 3600 * 1e9)"
   ]
  },
  {
   "cell_type": "code",
   "execution_count": 59,
   "metadata": {},
   "outputs": [
    {
     "name": "stdout",
     "output_type": "stream",
     "text": [
      "CPU times: user 4 ms, sys: 0 ns, total: 4 ms\n",
      "Wall time: 3.54 ms\n"
     ]
    },
    {
     "name": "stderr",
     "output_type": "stream",
     "text": [
      "/g/data1/e14/rm6294/miniconda3/envs/now-postprocess/lib/python3.6/site-packages/dask_image/ndmeasure/__init__.py:214: RuntimeWarning: ``input`` does not have 1 chunk in all dimensions; it will be consolidated first\n",
      "  warn(\"``input`` does not have 1 chunk in all dimensions; it will be consolidated first\", RuntimeWarning)\n"
     ]
    }
   ],
   "source": [
    "%%time\n",
    "struc = np.zeros((3,3,3))\n",
    "# Just looking for consecutive SST threshold crosses in the time dimension:\n",
    "struc[:,1,1] = 1\n",
    "labeled_array, num_features = dask_image.ndmeasure.label(mhwSub.data, structure = struc)\n",
    "#ndimage.label(mhwSub.data, structure = struc)"
   ]
  },
  {
   "cell_type": "code",
   "execution_count": 60,
   "metadata": {},
   "outputs": [],
   "source": [
    "# Creating an xarray object with the same coordinates as mhws for labeled_array\n",
    "lbl = xr.full_like(mhwSub, labeled_array)"
   ]
  },
  {
   "cell_type": "code",
   "execution_count": 61,
   "metadata": {},
   "outputs": [],
   "source": [
    "# Converting from date-time to nanoseconds\n",
    "mhw_dates = pd.to_numeric(mhwSub['time_counter'])\n",
    "\n",
    "# Creates mhw_dur object which has a time series (in nanoseconds) at each grid point\n",
    "mhw_dur = xr.broadcast(mhwSub, mhw_dates)[1]"
   ]
  },
  {
   "cell_type": "code",
   "execution_count": 62,
   "metadata": {},
   "outputs": [],
   "source": [
    "# Sets all points in mhw_dur where SST didn't cross threshold to 0. Might be useless, as we don't actually use mhw_dur\n",
    "mhw_dur = xr.where(lbl > 0, mhw_dur, 0)  "
   ]
  },
  {
   "cell_type": "code",
   "execution_count": 121,
   "metadata": {
    "scrolled": false
   },
   "outputs": [],
   "source": [
    "indexs = da.array.from_array(da.array.arange(1, 1 + num_features), chunks = 6940)"
   ]
  },
  {
   "cell_type": "code",
   "execution_count": 122,
   "metadata": {},
   "outputs": [
    {
     "data": {
      "text/plain": [
       "dask.array<array, shape=(885142,), dtype=int64, chunksize=(6940,)>"
      ]
     },
     "execution_count": 122,
     "metadata": {},
     "output_type": "execute_result"
    }
   ],
   "source": [
    "indexs"
   ]
  },
  {
   "cell_type": "code",
   "execution_count": 114,
   "metadata": {},
   "outputs": [
    {
     "name": "stdout",
     "output_type": "stream",
     "text": [
      "mhw_dur: type = <class 'dask.array.core.Array'> , chunks = (6940, 20, 20)\n",
      "    lbl: type = <class 'dask.array.core.Array'> , chunks = (6940, 20, 20)\n",
      " mhwSub: type = <class 'dask.array.core.Array'> , chunks = (6940, 20, 20)\n"
     ]
    }
   ],
   "source": [
    "print(\"mhw_dur: type =\", type(mhw_dur.data), \", chunks =\", mhw_dur.data.chunksize)\n",
    "print(\"    lbl: type =\", type(lbl.data), \", chunks =\", lbl.data.chunksize)\n",
    "print(\" mhwSub: type =\", type(mhwSub.data), \", chunks =\", mhwSub.data.chunksize)"
   ]
  },
  {
   "cell_type": "code",
   "execution_count": 123,
   "metadata": {
    "scrolled": false
   },
   "outputs": [
    {
     "ename": "KeyboardInterrupt",
     "evalue": "",
     "output_type": "error",
     "traceback": [
      "\u001b[0;31m---------------------------------------------------------------------------\u001b[0m",
      "\u001b[0;31mKeyboardInterrupt\u001b[0m                         Traceback (most recent call last)",
      "\u001b[0;32m<ipython-input-123-0e2fde2c9ffb>\u001b[0m in \u001b[0;36m<module>\u001b[0;34m\u001b[0m\n\u001b[1;32m      1\u001b[0m \u001b[0;31m# Calculates the max and min time points for all labeled points. I.e. the beggining and end dates for SST events\u001b[0m\u001b[0;34m\u001b[0m\u001b[0;34m\u001b[0m\u001b[0;34m\u001b[0m\u001b[0m\n\u001b[0;32m----> 2\u001b[0;31m \u001b[0mmaxMHW\u001b[0m \u001b[0;34m=\u001b[0m \u001b[0mdask_image\u001b[0m\u001b[0;34m.\u001b[0m\u001b[0mndmeasure\u001b[0m\u001b[0;34m.\u001b[0m\u001b[0mmaximum\u001b[0m\u001b[0;34m(\u001b[0m\u001b[0mmhw_dur\u001b[0m\u001b[0;34m,\u001b[0m \u001b[0mlabels\u001b[0m\u001b[0;34m=\u001b[0m\u001b[0mlbl\u001b[0m\u001b[0;34m,\u001b[0m \u001b[0mindex\u001b[0m\u001b[0;34m=\u001b[0m\u001b[0mindexs\u001b[0m\u001b[0;34m)\u001b[0m\u001b[0;34m\u001b[0m\u001b[0;34m\u001b[0m\u001b[0m\n\u001b[0m\u001b[1;32m      3\u001b[0m \u001b[0;31m#minMHW = dask_image.ndmeasure.minimum(mhw_dur, labels=lbl, index=indexs)\u001b[0m\u001b[0;34m\u001b[0m\u001b[0;34m\u001b[0m\u001b[0;34m\u001b[0m\u001b[0m\n",
      "\u001b[0;32m/g/data1/e14/rm6294/miniconda3/envs/now-postprocess/lib/python3.6/site-packages/dask_image/ndmeasure/__init__.py\u001b[0m in \u001b[0;36mmaximum\u001b[0;34m(input, labels, index)\u001b[0m\n\u001b[1;32m    343\u001b[0m \u001b[0;34m\u001b[0m\u001b[0m\n\u001b[1;32m    344\u001b[0m     return labeled_comprehension(\n\u001b[0;32m--> 345\u001b[0;31m         \u001b[0minput\u001b[0m\u001b[0;34m,\u001b[0m \u001b[0mlabels\u001b[0m\u001b[0;34m,\u001b[0m \u001b[0mindex\u001b[0m\u001b[0;34m,\u001b[0m \u001b[0mnumpy\u001b[0m\u001b[0;34m.\u001b[0m\u001b[0mmax\u001b[0m\u001b[0;34m,\u001b[0m \u001b[0minput\u001b[0m\u001b[0;34m.\u001b[0m\u001b[0mdtype\u001b[0m\u001b[0;34m,\u001b[0m \u001b[0minput\u001b[0m\u001b[0;34m.\u001b[0m\u001b[0mdtype\u001b[0m\u001b[0;34m.\u001b[0m\u001b[0mtype\u001b[0m\u001b[0;34m(\u001b[0m\u001b[0;36m0\u001b[0m\u001b[0;34m)\u001b[0m\u001b[0;34m\u001b[0m\u001b[0;34m\u001b[0m\u001b[0m\n\u001b[0m\u001b[1;32m    346\u001b[0m     )\n\u001b[1;32m    347\u001b[0m \u001b[0;34m\u001b[0m\u001b[0m\n",
      "\u001b[0;32m/g/data1/e14/rm6294/miniconda3/envs/now-postprocess/lib/python3.6/site-packages/dask_image/ndmeasure/__init__.py\u001b[0m in \u001b[0;36mlabeled_comprehension\u001b[0;34m(input, labels, index, func, out_dtype, default, pass_positions)\u001b[0m\n\u001b[1;32m    302\u001b[0m         \u001b[0margs_lbl_mtch_i\u001b[0m \u001b[0;34m=\u001b[0m \u001b[0mtuple\u001b[0m\u001b[0;34m(\u001b[0m\u001b[0me\u001b[0m\u001b[0;34m[\u001b[0m\u001b[0mlbl_mtch_i\u001b[0m\u001b[0;34m]\u001b[0m \u001b[0;32mfor\u001b[0m \u001b[0me\u001b[0m \u001b[0;32min\u001b[0m \u001b[0margs\u001b[0m\u001b[0;34m)\u001b[0m\u001b[0;34m\u001b[0m\u001b[0;34m\u001b[0m\u001b[0m\n\u001b[1;32m    303\u001b[0m         result[i] = _utils._labeled_comprehension_func(\n\u001b[0;32m--> 304\u001b[0;31m             \u001b[0mfunc\u001b[0m\u001b[0;34m,\u001b[0m \u001b[0mout_dtype\u001b[0m\u001b[0;34m,\u001b[0m \u001b[0mdefault_1d\u001b[0m\u001b[0;34m,\u001b[0m \u001b[0;34m*\u001b[0m\u001b[0margs_lbl_mtch_i\u001b[0m\u001b[0;34m\u001b[0m\u001b[0;34m\u001b[0m\u001b[0m\n\u001b[0m\u001b[1;32m    305\u001b[0m         )\n\u001b[1;32m    306\u001b[0m \u001b[0;34m\u001b[0m\u001b[0m\n",
      "\u001b[0;32m/g/data1/e14/rm6294/miniconda3/envs/now-postprocess/lib/python3.6/site-packages/dask_image/ndmeasure/_utils.py\u001b[0m in \u001b[0;36m_labeled_comprehension_func\u001b[0;34m(func, out_dtype, default, a, positions)\u001b[0m\n\u001b[1;32m    196\u001b[0m \u001b[0;34m\u001b[0m\u001b[0m\n\u001b[1;32m    197\u001b[0m     return dask.array.from_delayed(\n\u001b[0;32m--> 198\u001b[0;31m         \u001b[0m_labeled_comprehension_delayed\u001b[0m\u001b[0;34m(\u001b[0m\u001b[0mfunc\u001b[0m\u001b[0;34m,\u001b[0m \u001b[0mout_dtype\u001b[0m\u001b[0;34m,\u001b[0m \u001b[0mdefault\u001b[0m\u001b[0;34m,\u001b[0m \u001b[0ma\u001b[0m\u001b[0;34m,\u001b[0m \u001b[0mpositions\u001b[0m\u001b[0;34m)\u001b[0m\u001b[0;34m,\u001b[0m\u001b[0;34m\u001b[0m\u001b[0;34m\u001b[0m\u001b[0m\n\u001b[0m\u001b[1;32m    199\u001b[0m         \u001b[0;34m(\u001b[0m\u001b[0;36m1\u001b[0m\u001b[0;34m,\u001b[0m\u001b[0;34m)\u001b[0m\u001b[0;34m,\u001b[0m\u001b[0;34m\u001b[0m\u001b[0;34m\u001b[0m\u001b[0m\n\u001b[1;32m    200\u001b[0m         \u001b[0mout_dtype\u001b[0m\u001b[0;34m\u001b[0m\u001b[0;34m\u001b[0m\u001b[0m\n",
      "\u001b[0;32m/g/data1/e14/rm6294/miniconda3/envs/now-postprocess/lib/python3.6/site-packages/dask/delayed.py\u001b[0m in \u001b[0;36m__call__\u001b[0;34m(self, *args, **kwargs)\u001b[0m\n\u001b[1;32m    596\u001b[0m     \u001b[0;32mdef\u001b[0m \u001b[0m__call__\u001b[0m\u001b[0;34m(\u001b[0m\u001b[0mself\u001b[0m\u001b[0;34m,\u001b[0m \u001b[0;34m*\u001b[0m\u001b[0margs\u001b[0m\u001b[0;34m,\u001b[0m \u001b[0;34m**\u001b[0m\u001b[0mkwargs\u001b[0m\u001b[0;34m)\u001b[0m\u001b[0;34m:\u001b[0m\u001b[0;34m\u001b[0m\u001b[0;34m\u001b[0m\u001b[0m\n\u001b[1;32m    597\u001b[0m         return call_function(self._obj, self._key, args, kwargs,\n\u001b[0;32m--> 598\u001b[0;31m                              pure=self._pure, nout=self._nout)\n\u001b[0m\u001b[1;32m    599\u001b[0m \u001b[0;34m\u001b[0m\u001b[0m\n\u001b[1;32m    600\u001b[0m \u001b[0;34m\u001b[0m\u001b[0m\n",
      "\u001b[0;32m/g/data1/e14/rm6294/miniconda3/envs/now-postprocess/lib/python3.6/site-packages/dask/delayed.py\u001b[0m in \u001b[0;36mcall_function\u001b[0;34m(func, func_token, args, kwargs, pure, nout)\u001b[0m\n\u001b[1;32m    560\u001b[0m     \u001b[0;32mif\u001b[0m \u001b[0mdask_key_name\u001b[0m \u001b[0;32mis\u001b[0m \u001b[0;32mNone\u001b[0m\u001b[0;34m:\u001b[0m\u001b[0;34m\u001b[0m\u001b[0;34m\u001b[0m\u001b[0m\n\u001b[1;32m    561\u001b[0m         name = '%s-%s' % (funcname(func),\n\u001b[0;32m--> 562\u001b[0;31m                           tokenize(func_token, *args, pure=pure, **kwargs))\n\u001b[0m\u001b[1;32m    563\u001b[0m     \u001b[0;32melse\u001b[0m\u001b[0;34m:\u001b[0m\u001b[0;34m\u001b[0m\u001b[0;34m\u001b[0m\u001b[0m\n\u001b[1;32m    564\u001b[0m         \u001b[0mname\u001b[0m \u001b[0;34m=\u001b[0m \u001b[0mdask_key_name\u001b[0m\u001b[0;34m\u001b[0m\u001b[0;34m\u001b[0m\u001b[0m\n",
      "\u001b[0;32m/g/data1/e14/rm6294/miniconda3/envs/now-postprocess/lib/python3.6/site-packages/dask/delayed.py\u001b[0m in \u001b[0;36mtokenize\u001b[0;34m(*args, **kwargs)\u001b[0m\n\u001b[1;32m    212\u001b[0m         \u001b[0;32mreturn\u001b[0m \u001b[0m_tokenize\u001b[0m\u001b[0;34m(\u001b[0m\u001b[0;34m*\u001b[0m\u001b[0margs\u001b[0m\u001b[0;34m,\u001b[0m \u001b[0;34m**\u001b[0m\u001b[0mkwargs\u001b[0m\u001b[0;34m)\u001b[0m\u001b[0;34m\u001b[0m\u001b[0;34m\u001b[0m\u001b[0m\n\u001b[1;32m    213\u001b[0m     \u001b[0;32melse\u001b[0m\u001b[0;34m:\u001b[0m\u001b[0;34m\u001b[0m\u001b[0;34m\u001b[0m\u001b[0m\n\u001b[0;32m--> 214\u001b[0;31m         \u001b[0;32mreturn\u001b[0m \u001b[0mstr\u001b[0m\u001b[0;34m(\u001b[0m\u001b[0muuid\u001b[0m\u001b[0;34m.\u001b[0m\u001b[0muuid4\u001b[0m\u001b[0;34m(\u001b[0m\u001b[0;34m)\u001b[0m\u001b[0;34m)\u001b[0m\u001b[0;34m\u001b[0m\u001b[0;34m\u001b[0m\u001b[0m\n\u001b[0m\u001b[1;32m    215\u001b[0m \u001b[0;34m\u001b[0m\u001b[0m\n\u001b[1;32m    216\u001b[0m \u001b[0;34m\u001b[0m\u001b[0m\n",
      "\u001b[0;32m/g/data1/e14/rm6294/miniconda3/envs/now-postprocess/lib/python3.6/uuid.py\u001b[0m in \u001b[0;36muuid4\u001b[0;34m()\u001b[0m\n\u001b[1;32m    621\u001b[0m \u001b[0;32mdef\u001b[0m \u001b[0muuid4\u001b[0m\u001b[0;34m(\u001b[0m\u001b[0;34m)\u001b[0m\u001b[0;34m:\u001b[0m\u001b[0;34m\u001b[0m\u001b[0;34m\u001b[0m\u001b[0m\n\u001b[1;32m    622\u001b[0m     \u001b[0;34m\"\"\"Generate a random UUID.\"\"\"\u001b[0m\u001b[0;34m\u001b[0m\u001b[0;34m\u001b[0m\u001b[0m\n\u001b[0;32m--> 623\u001b[0;31m     \u001b[0;32mreturn\u001b[0m \u001b[0mUUID\u001b[0m\u001b[0;34m(\u001b[0m\u001b[0mbytes\u001b[0m\u001b[0;34m=\u001b[0m\u001b[0mos\u001b[0m\u001b[0;34m.\u001b[0m\u001b[0murandom\u001b[0m\u001b[0;34m(\u001b[0m\u001b[0;36m16\u001b[0m\u001b[0;34m)\u001b[0m\u001b[0;34m,\u001b[0m \u001b[0mversion\u001b[0m\u001b[0;34m=\u001b[0m\u001b[0;36m4\u001b[0m\u001b[0;34m)\u001b[0m\u001b[0;34m\u001b[0m\u001b[0;34m\u001b[0m\u001b[0m\n\u001b[0m\u001b[1;32m    624\u001b[0m \u001b[0;34m\u001b[0m\u001b[0m\n\u001b[1;32m    625\u001b[0m \u001b[0;32mdef\u001b[0m \u001b[0muuid5\u001b[0m\u001b[0;34m(\u001b[0m\u001b[0mnamespace\u001b[0m\u001b[0;34m,\u001b[0m \u001b[0mname\u001b[0m\u001b[0;34m)\u001b[0m\u001b[0;34m:\u001b[0m\u001b[0;34m\u001b[0m\u001b[0;34m\u001b[0m\u001b[0m\n",
      "\u001b[0;31mKeyboardInterrupt\u001b[0m: "
     ]
    }
   ],
   "source": [
    "# Calculates the max and min time points for all labeled points. I.e. the beggining and end dates for SST events \n",
    "maxMHW = dask_image.ndmeasure.maximum(mhw_dur, labels=lbl, index=indexs)\n",
    "#minMHW = dask_image.ndmeasure.minimum(mhw_dur, labels=lbl, index=indexs)"
   ]
  },
  {
   "cell_type": "code",
   "execution_count": null,
   "metadata": {},
   "outputs": [],
   "source": [
    "# Calculates the length of all potential MHW events.\n",
    "dur = maxMHW - minMHW + day2ns(1) "
   ]
  },
  {
   "cell_type": "code",
   "execution_count": null,
   "metadata": {},
   "outputs": [],
   "source": [
    "# converting minDur (default = 5) days to nanoseconds\n",
    "minDur = 5 # default ^\n",
    "minDur_ns = day2ns(minDur) \n",
    "# Finds the event numbers of MHWs with duration >= minDur_ns. \n",
    "failed_ev_num = da.array.where(dur < minDur_ns)[0]  + 1 # Adding 1 so that event number matches with value in labeled_array. "
   ]
  },
  {
   "cell_type": "code",
   "execution_count": null,
   "metadata": {},
   "outputs": [],
   "source": [
    "maxMHW.compute()"
   ]
  },
  {
   "cell_type": "code",
   "execution_count": null,
   "metadata": {},
   "outputs": [],
   "source": [
    "failed_ev_num.compute()"
   ]
  },
  {
   "cell_type": "code",
   "execution_count": null,
   "metadata": {},
   "outputs": [],
   "source": [
    "# objs has the location of each labeled event \n",
    "#i.e objs[0] is the location of the event 1, objs[10] location of event 11  \n",
    "objs = ndimage.find_objects(lbl.astype('int'))"
   ]
  },
  {
   "cell_type": "code",
   "execution_count": null,
   "metadata": {},
   "outputs": [],
   "source": [
    "# failed_objs has the location for all the failed events in labeled_array \n",
    "failed_objs = [objs[i - 1] for i in failed_ev_num]"
   ]
  },
  {
   "cell_type": "code",
   "execution_count": null,
   "metadata": {},
   "outputs": [],
   "source": [
    "for loc in failed_objs:\n",
    "    lbl.data[loc] = 0"
   ]
  },
  {
   "cell_type": "code",
   "execution_count": null,
   "metadata": {},
   "outputs": [],
   "source": [
    "%%time\n",
    "mhw_preGap = xr.where(lbl > 0, mhwSub, 0)"
   ]
  },
  {
   "cell_type": "code",
   "execution_count": null,
   "metadata": {},
   "outputs": [],
   "source": [
    "# Checks if there are the right amount of locations\n",
    "print(len(failed_ev_num))\n",
    "len(failed_objs) == len(failed_ev_num) "
   ]
  },
  {
   "cell_type": "code",
   "execution_count": null,
   "metadata": {},
   "outputs": [],
   "source": [
    "copy = xr.open_dataarray(localDir + 'severityMHWNOW_futRun.nc').isel(x = slice(170,270),y = slice(0,100))\n",
    "#copy = copy.chunk({'x': 50, 'y': 50})"
   ]
  },
  {
   "cell_type": "code",
   "execution_count": null,
   "metadata": {},
   "outputs": [],
   "source": [
    "#f, (ax1, ax2) = plt.subplots(1, 2)\n",
    "ax1 = plt.subplot(211, projection=ccrs.PlateCarree(central_longitude=0))\n",
    "ax2 = plt.subplot(212, projection=ccrs.PlateCarree(central_longitude=0))\n",
    "\n",
    "now.plot.add_map(lon_min = 90, lon_max = 180, lat_min = -55,ax = ax1, lat_max = 4.5)\n",
    "mhw_preGap.isel(time_counter = 6935).plot(x = 'nav_lon', y = 'nav_lat', cmap = 'hot_r', ax = ax1);\n",
    "\n",
    "now.plot.add_map(lon_min = 90, lon_max = 180, lat_min = -55,ax = ax2, lat_max = 4.5)\n",
    "copy.isel(time_counter = 6935).plot(x = 'nav_lon', y = 'nav_lat', cmap = 'hot_r', ax = ax2);"
   ]
  },
  {
   "cell_type": "code",
   "execution_count": null,
   "metadata": {},
   "outputs": [],
   "source": [
    "copy.isel(x = 1, y = 1).plot()\n",
    "mhw_preGap.isel(x = 1, y = 1).plot();"
   ]
  },
  {
   "cell_type": "code",
   "execution_count": null,
   "metadata": {},
   "outputs": [],
   "source": [
    "# Check to see if something has actually changed\n",
    "(mhw_preGap != copy).sum().compute()"
   ]
  },
  {
   "cell_type": "markdown",
   "metadata": {},
   "source": [
    "#### Now need to calculate gaps"
   ]
  },
  {
   "cell_type": "code",
   "execution_count": null,
   "metadata": {},
   "outputs": [],
   "source": [
    "ev_nums = np.where(dur >= minDur_ns)[0]  + 1"
   ]
  },
  {
   "cell_type": "code",
   "execution_count": null,
   "metadata": {},
   "outputs": [],
   "source": [
    "ev_nums[0:20] - 1 #<- index when counting from 0 "
   ]
  },
  {
   "cell_type": "code",
   "execution_count": null,
   "metadata": {},
   "outputs": [],
   "source": [
    "# Shows the maximum and minimum date for the <index> MHW \n",
    "index = 73\n",
    "print(pd.to_datetime(minMHW[index], unit = 'ns'), pd.to_datetime(maxMHW[index], unit = 'ns'), pd.to_timedelta(dur[index]))"
   ]
  },
  {
   "cell_type": "code",
   "execution_count": null,
   "metadata": {},
   "outputs": [],
   "source": [
    "# This operation will only leave the dates in mhw_dur during which MHWs occured\n",
    "mhw_dur = xr.where(labeled_array > 0, mhw_dur, 0)  "
   ]
  },
  {
   "cell_type": "code",
   "execution_count": null,
   "metadata": {},
   "outputs": [],
   "source": [
    "lbls, ne = ndimage.label(labeled_array, structure = struc)"
   ]
  },
  {
   "cell_type": "code",
   "execution_count": null,
   "metadata": {},
   "outputs": [],
   "source": [
    "np.where(lbls == 1)\n",
    "# Maybe try find where the events are,and see if there is an event in 2 times_steps."
   ]
  },
  {
   "cell_type": "code",
   "execution_count": null,
   "metadata": {},
   "outputs": [],
   "source": [
    "#pd.to_datetime(maxs, unit = 'ns')"
   ]
  },
  {
   "cell_type": "markdown",
   "metadata": {},
   "source": [
    "#### Cobbled Together"
   ]
  },
  {
   "cell_type": "code",
   "execution_count": null,
   "metadata": {},
   "outputs": [],
   "source": [
    "def whereIs(array, ev_num):\n",
    "    # Finds location of event <ev_num> in array\n",
    "    return np.where(array == ev_num)[0]"
   ]
  },
  {
   "cell_type": "code",
   "execution_count": null,
   "metadata": {},
   "outputs": [],
   "source": [
    "def clear(array, loc):\n",
    "    # Removes SST events in array at specified location loc\n",
    "    array[loc] = 0\n",
    "    return array"
   ]
  },
  {
   "cell_type": "code",
   "execution_count": null,
   "metadata": {},
   "outputs": [],
   "source": [
    "def duration(array, num_events):\n",
    "    # Takes in a time-series and implements the 5 day requirement for it.\n",
    "    min_duration = 5\n",
    "    for ev in range(1, num_events + 1):\n",
    "        loc = whereIs(array, ev)\n",
    "        if len(loc) < min_duration:\n",
    "            array = clear(array, loc)\n",
    "    return array"
   ]
  },
  {
   "cell_type": "code",
   "execution_count": null,
   "metadata": {},
   "outputs": [],
   "source": [
    "struc = np.zeros((3,3,3))\n",
    "struc[:,1,1] = 1\n",
    "labeled_array1, num_features1 = ndimage.label(mhws.data, structure = struc)"
   ]
  },
  {
   "cell_type": "code",
   "execution_count": null,
   "metadata": {},
   "outputs": [],
   "source": [
    "%%time\n",
    "labeled_array, num_features = da.array.apply_along_axis(ndimage.label, mhws.get_axis_num('time_counter'), mhws.data).compute()"
   ]
  },
  {
   "cell_type": "code",
   "execution_count": null,
   "metadata": {},
   "outputs": [],
   "source": [
    "# Storing number of events as an integer\n",
    "numEv = xr.DataArray(num_features.astype('int'), dims = ('x', 'y'))"
   ]
  },
  {
   "cell_type": "code",
   "execution_count": null,
   "metadata": {},
   "outputs": [],
   "source": [
    "%%time\n",
    "for x in range(0, 430):\n",
    "    for y in range(0, 288):\n",
    "        duration(labeled_array[y,x], numEv.isel(x = x, y = y).data)"
   ]
  },
  {
   "cell_type": "code",
   "execution_count": null,
   "metadata": {},
   "outputs": [],
   "source": [
    "mhws_dur = mhws_dur.chunk({'x' : 50, 'y'  : 50})"
   ]
  },
  {
   "cell_type": "code",
   "execution_count": null,
   "metadata": {},
   "outputs": [],
   "source": [
    "mhws_dur = xr.full_like(mhws, labeled_array1)"
   ]
  },
  {
   "cell_type": "code",
   "execution_count": null,
   "metadata": {},
   "outputs": [],
   "source": [
    "labeled_array, num_features = da.array.apply_along_axis(ndimage.label, mhwSub.get_axis_num('time_counter'), mhwSub.data)"
   ]
  },
  {
   "cell_type": "code",
   "execution_count": null,
   "metadata": {},
   "outputs": [],
   "source": [
    "%%time\n",
    "labeled_array = labeled_array.compute()\n",
    "num_features = num_features.compute()"
   ]
  },
  {
   "cell_type": "code",
   "execution_count": null,
   "metadata": {},
   "outputs": [],
   "source": [
    "# Checking if we can store labeled_array as an xarray object\n",
    "numEv = xr.DataArray(num_features.astype('int'), dims = ('x', 'y'))"
   ]
  },
  {
   "cell_type": "code",
   "execution_count": null,
   "metadata": {},
   "outputs": [],
   "source": [
    "%%time\n",
    "for x in range(0, 50):\n",
    "    for y in range(0, 50):\n",
    "        duration(labeled_array[x,y], numEv.isel(x = x, y = y).data)"
   ]
  },
  {
   "cell_type": "code",
   "execution_count": null,
   "metadata": {},
   "outputs": [],
   "source": [
    "l,ne = ndimage.label(mhwSub.isel(x = 0, y = 0))"
   ]
  },
  {
   "cell_type": "code",
   "execution_count": null,
   "metadata": {},
   "outputs": [],
   "source": [
    "ne"
   ]
  },
  {
   "cell_type": "code",
   "execution_count": null,
   "metadata": {},
   "outputs": [],
   "source": [
    "plot(l, label = 'all')\n",
    "plot(labeled_array[0,0], label = 'real')\n",
    "plt.legend();\n",
    "\n",
    "plt.xlim(1000,2000)"
   ]
  },
  {
   "cell_type": "code",
   "execution_count": null,
   "metadata": {},
   "outputs": [],
   "source": [
    "def whereIs(array, ev_num):\n",
    "    # Finds location of event <ev_num> in array\n",
    "    return np.where(array == ev_num)[0]"
   ]
  },
  {
   "cell_type": "code",
   "execution_count": null,
   "metadata": {},
   "outputs": [],
   "source": [
    "def check(array, loc):\n",
    "    # Removes SST events in array at specified location loc\n",
    "    array[loc] = 0\n",
    "    return array"
   ]
  },
  {
   "cell_type": "code",
   "execution_count": null,
   "metadata": {},
   "outputs": [],
   "source": [
    "def duration(array, num_events):\n",
    "    # Takes in a time-series and implements the 5 day requirement for it.\n",
    "    min_duration = 5\n",
    "    for ev in range(1, num_events + 1):\n",
    "        loc = whereIs(array, ev)\n",
    "        if len(loc) < min_duration:\n",
    "            array = check(array, loc)\n",
    "    return array\n",
    "\n",
    "    '''\n",
    "       # Maybe make it recursive?? \n",
    "    \n",
    "    duration(array, num_events, index)\n",
    "    if index < num_events:\n",
    "        loc = da.delayed(whereIs)(array, ev)\n",
    "        array = da.delayed(check)(array, loc)\n",
    "        da.delayed(duration)(array, num_events, index + 1)\n",
    "    else:\n",
    "        return array\n",
    "    '''"
   ]
  },
  {
   "cell_type": "code",
   "execution_count": null,
   "metadata": {},
   "outputs": [],
   "source": [
    "checked[:,0,0]  = 0"
   ]
  },
  {
   "cell_type": "code",
   "execution_count": null,
   "metadata": {},
   "outputs": [],
   "source": [
    "labeled_array, num_features = da.array.apply_along_axis(ndimage.label, mhwSub.get_axis_num('time_counter'), mhwSub.data)\n",
    "checked = (np.zeros_like(mhwSub)).astype('object')\n",
    "\n",
    "\n",
    "for x in range(0, 50):\n",
    "    for y in range(0, 50):\n",
    "        checked[:,x,y] = da.delayed(duration, pure = True)(labeled_array[x,y], num_features[x,y], 0)\n"
   ]
  },
  {
   "cell_type": "code",
   "execution_count": null,
   "metadata": {
    "scrolled": false
   },
   "outputs": [],
   "source": [
    "plot(a)\n",
    "plot(labeled_array[0,0]);"
   ]
  },
  {
   "cell_type": "code",
   "execution_count": null,
   "metadata": {},
   "outputs": [],
   "source": [
    "'''\n",
    "def check(length, min_duration):\n",
    "    # Checks if length of event is greater than the min duration required\n",
    "    return (length < min_duration)\n",
    "\n",
    "def clear(array, loc):\n",
    "    # Removes SST events in array at specified location loc\n",
    "    array[loc] = 0\n",
    "    return array\n",
    "'''"
   ]
  },
  {
   "cell_type": "code",
   "execution_count": null,
   "metadata": {},
   "outputs": [],
   "source": [
    "np.where(calc[0,0] == num_features[0,0])"
   ]
  },
  {
   "cell_type": "code",
   "execution_count": null,
   "metadata": {},
   "outputs": [],
   "source": [
    "# Sample for how the algorigthm will look. Problem is, we have to iterate i & j & num_events. Gonna look into \n",
    "# dask.delayed to try and loop through this.\n",
    "new = []\n",
    "i = 0; j = 0; num_events = num_features[i,j];\n",
    "for ev in range(1, num_events):\n",
    "    loc = da.delayed(whereIs)(calc[i,j], ev)\n",
    "    new = da.delayed(check)(calc[i,j], loc)"
   ]
  },
  {
   "cell_type": "code",
   "execution_count": null,
   "metadata": {},
   "outputs": [],
   "source": [
    "num_features = num_features.astype('int')"
   ]
  },
  {
   "cell_type": "code",
   "execution_count": null,
   "metadata": {},
   "outputs": [],
   "source": [
    "%%time\n",
    "\n",
    "'''\n",
    "Currently: This algorithm finds events with duration less than 5, and sets the values to 0.\n",
    "It has the capability to identify events that will occur two days later, but can't yet link them up. \n",
    "Additionally, there is no parralelisation capability - which is the whole point of this thing. Might be worht\n",
    "looking at the percentile application to look into parralelisation.\n",
    "'''\n",
    "\n",
    "\n",
    "a = num_features\n",
    "for i in range(1,num_features):\n",
    "    loc = np.where(labeled_array == i)\n",
    "    dur = loc[0][-1] - loc[0][0] + 1\n",
    "    if dur < 5:\n",
    "        a -= 1\n",
    "        labeled_array[loc] = 0\n",
    "    elif labeled_array[loc[0][-1] + 1, loc[1][-1], loc[2][-1]] != 0:\n",
    "        print('Conection!')\n",
    "        print(i)\n",
    "        \n",
    "print('Found', num_features - a, 'false events')"
   ]
  },
  {
   "cell_type": "markdown",
   "metadata": {},
   "source": [
    "### Trying to spatially connect MHWs and then calculate the duration connected events.  \n",
    "Currently links events that are spatially and/or temporally connected, but doesn't change original dataset."
   ]
  },
  {
   "cell_type": "code",
   "execution_count": null,
   "metadata": {},
   "outputs": [],
   "source": [
    "%%time\n",
    "mhwSub = mhwSub.chunk({'time_counter':10})\n",
    "# Structure such that diagonal connections in both spatial and temporal dimensions are counted. \n",
    "struc = np.ones((3,3,3)) \n",
    "# This function finds strings of consecutive nonzero numbers. \n",
    "labeled_array, num_features = ndimage.label(mhwSub, struc)"
   ]
  },
  {
   "cell_type": "code",
   "execution_count": null,
   "metadata": {},
   "outputs": [],
   "source": [
    "num_features"
   ]
  },
  {
   "cell_type": "code",
   "execution_count": null,
   "metadata": {
    "scrolled": true
   },
   "outputs": [],
   "source": [
    "%%time\n",
    "# Brute force approach. Looping through each of the labelled events, and calculating their duration\n",
    "feat = num_features\n",
    "for i in range(1, num_features):\n",
    "    time = np.where(labeled_array == i)[0]\n",
    "    dur = time[-1] - time[0] + 1\n",
    "    if dur < 5:\n",
    "        feat -= 1\n",
    "        \n",
    "print(\"# MHWs originally:\", num_features, \"\\n # MHWs after duration constraint: \", feat)"
   ]
  },
  {
   "cell_type": "code",
   "execution_count": null,
   "metadata": {},
   "outputs": [],
   "source": [
    "# Get the time record and broadcast its shape to be 3D using xarray.broadcast\n",
    "time_record = xr.broadcast(mhwSub.isel(x=1,y=1),mhwSub.isel(x=1,y=1), mhwSub.isel(x=1,y=1))"
   ]
  },
  {
   "cell_type": "code",
   "execution_count": null,
   "metadata": {},
   "outputs": [],
   "source": [
    " b"
   ]
  },
  {
   "cell_type": "code",
   "execution_count": null,
   "metadata": {},
   "outputs": [],
   "source": [
    "np.where(labeled_array == 11)\n",
    "#print(len(I))\n",
    "#print(I,J,K, sep = '\\n')"
   ]
  },
  {
   "cell_type": "code",
   "execution_count": null,
   "metadata": {},
   "outputs": [],
   "source": [
    "%%time\n",
    "I, J, K = np.where(labeled_array == 9)\n",
    "\n",
    "labeled_array[(I,J,K)] = 0\n",
    "print(labeled_array[(I,J,K)])#.isel(time_counter = 2).plot()"
   ]
  },
  {
   "cell_type": "code",
   "execution_count": null,
   "metadata": {},
   "outputs": [],
   "source": [
    "index = 14\n",
    "matshow(mhwSub[index], origin = 'lower');\n",
    "matshow(labeled_array[index],origin='lower');"
   ]
  },
  {
   "cell_type": "code",
   "execution_count": null,
   "metadata": {},
   "outputs": [],
   "source": [
    "maxs = ndimage.maximum(mhwSub.isel(x=0,y=0), labels = labeled_array[:,0,0], index=np.arange(1, num_features + 1))\n",
    "mins = ndimage.minimum(mhwSub.isel(x=0,y=0), labels = labeled_array[:,0,0], index=np.arange(1, num_features + 1))"
   ]
  },
  {
   "cell_type": "code",
   "execution_count": null,
   "metadata": {},
   "outputs": [],
   "source": [
    "#mhwSub.isel(x=0,y=0).plot()\n",
    "plot(maxs)\n",
    "plot(mins)\n",
    "xlim(3800,3840);"
   ]
  },
  {
   "cell_type": "code",
   "execution_count": null,
   "metadata": {},
   "outputs": [],
   "source": [
    "maxs = pd.to_datetime(maxs, unit = 'ns')\n",
    "mins = pd.to_datetime(mins, unit = 'ns')\n",
    "plot(maxs)\n",
    "plot(mins)"
   ]
  },
  {
   "cell_type": "code",
   "execution_count": null,
   "metadata": {},
   "outputs": [],
   "source": [
    "dif = maxs - mins"
   ]
  },
  {
   "cell_type": "code",
   "execution_count": null,
   "metadata": {},
   "outputs": [],
   "source": [
    "dif"
   ]
  },
  {
   "cell_type": "code",
   "execution_count": null,
   "metadata": {},
   "outputs": [],
   "source": [
    "matshow(labeled_array[0], origin = 'lower');"
   ]
  },
  {
   "cell_type": "code",
   "execution_count": null,
   "metadata": {},
   "outputs": [],
   "source": [
    "index = 3824\n",
    "print(maxs[index], mins[index])"
   ]
  },
  {
   "cell_type": "code",
   "execution_count": null,
   "metadata": {},
   "outputs": [],
   "source": [
    "shape(mins)"
   ]
  },
  {
   "cell_type": "code",
   "execution_count": null,
   "metadata": {},
   "outputs": [],
   "source": [
    "durations = maxs - mins"
   ]
  },
  {
   "cell_type": "code",
   "execution_count": null,
   "metadata": {},
   "outputs": [],
   "source": [
    "print('1', durations[2])"
   ]
  },
  {
   "cell_type": "markdown",
   "metadata": {},
   "source": [
    "#### First, we will try with a subset of the entire dataset.\n",
    "This subset will focus on the past data."
   ]
  },
  {
   "cell_type": "code",
   "execution_count": null,
   "metadata": {},
   "outputs": [],
   "source": [
    "# Creating subset:\n",
    "# key: p = past, f = fast, c = clim, t = threshold \n",
    "pcSub = pClim.isel(x = slice(220,320),y = slice(50,150))\n",
    "ptSub = pThresh.isel(x = slice(220,320),y = slice(50,150))\n",
    "sstSub = sstPast.isel(x = slice(220,320),y = slice(50,150))"
   ]
  },
  {
   "cell_type": "code",
   "execution_count": null,
   "metadata": {},
   "outputs": [],
   "source": [
    "# Showing that we have taken a subset of the spacial dimension\n",
    "sstSub.isel(time_counter = 1).plot();"
   ]
  },
  {
   "cell_type": "code",
   "execution_count": null,
   "metadata": {},
   "outputs": [],
   "source": [
    "pClim"
   ]
  },
  {
   "cell_type": "code",
   "execution_count": null,
   "metadata": {
    "scrolled": true
   },
   "outputs": [],
   "source": [
    "%%time\n",
    "# Finding thresha and ssta\n",
    "thresha = ptSub.chunk({'x':10, 'y':10, 'time_counter':365}) - pcSub.chunk({'x':10, 'y':10, 'time_counter':365})\n",
    "ssta = sstSub.chunk({'x':10, 'y':10, 'time_counter':365}) - pcSub.chunk({'x':10, 'y':10, 'time_counter':365})"
   ]
  },
  {
   "cell_type": "code",
   "execution_count": null,
   "metadata": {},
   "outputs": [],
   "source": [
    "ssta.isel(x=1,y=2).plot(size = 10)\n",
    "thresha.isel(x=1,y=2).plot();"
   ]
  },
  {
   "cell_type": "code",
   "execution_count": null,
   "metadata": {},
   "outputs": [],
   "source": [
    "%%time\n",
    "#mhws = da.array.apply_along_axis(np.where, ssta.get_axis_num('time_counter'), ssta > thresha, ssta / thresha, 0)\n",
    "#dif = ssta - thresha\n",
    "mhws = xr.where(ssta > thresha, ssta/thresha, 0)"
   ]
  },
  {
   "cell_type": "markdown",
   "metadata": {},
   "source": [
    "This mhws array represents all the values for which the threshold is exceeded. MHWs have the additional stipulation that they must last for 5 or more days. The next part tries to follow what Oliver did to combat this problem"
   ]
  },
  {
   "cell_type": "code",
   "execution_count": null,
   "metadata": {},
   "outputs": [],
   "source": [
    "# Here we create the array structure that the label function will use\n",
    "s = generate_binary_structure(2,2)\n",
    "struc = np.array([s,s,s])\n",
    "struc[1][1][1] = 0"
   ]
  },
  {
   "cell_type": "code",
   "execution_count": null,
   "metadata": {},
   "outputs": [],
   "source": [
    "struc"
   ]
  },
  {
   "cell_type": "code",
   "execution_count": null,
   "metadata": {
    "scrolled": false
   },
   "outputs": [],
   "source": [
    "%%time\n",
    "# This function finds strings of consecutive nonzero numbers. \n",
    "labeled_array, num_features = label(mhws,struc)"
   ]
  },
  {
   "cell_type": "code",
   "execution_count": null,
   "metadata": {},
   "outputs": [],
   "source": [
    "num_features"
   ]
  },
  {
   "cell_type": "code",
   "execution_count": null,
   "metadata": {},
   "outputs": [],
   "source": [
    "%%time\n",
    "i = 0\n",
    "for ev in range(1,num_features+1):\n",
    "    event_duration = (labeled_array == ev).sum()\n",
    "    if event_duration < 5:\n",
    "        i += 1\n",
    "        #print(\"Event \" + str(ev) + \" is a \" + str(event_duration) + \" day event \")\n",
    "        labeled_array[np.where(labeled_array == ev)] = [0]\n",
    "        \n",
    "num_features -= i"
   ]
  },
  {
   "cell_type": "code",
   "execution_count": null,
   "metadata": {},
   "outputs": [],
   "source": [
    "marHw = xr.DataArray(labeled_array, coords = mhws.coords, dims = mhws.dims)"
   ]
  },
  {
   "cell_type": "code",
   "execution_count": null,
   "metadata": {},
   "outputs": [],
   "source": [
    "pcSub.isel(x=2, y = 60, time_counter= 1)"
   ]
  },
  {
   "cell_type": "code",
   "execution_count": null,
   "metadata": {},
   "outputs": [],
   "source": [
    "pcSub.isel(time_counter = 4225).plot();"
   ]
  },
  {
   "cell_type": "code",
   "execution_count": null,
   "metadata": {},
   "outputs": [],
   "source": [
    "mhws.isel(time_counter = 90).plot(cmap = 'hot_r', vmin = 0, vmax = 4);"
   ]
  },
  {
   "cell_type": "code",
   "execution_count": null,
   "metadata": {},
   "outputs": [],
   "source": [
    "matshow(labeled_array[90], origin = 'lower')#.isel(time_counter = 1).plot(cmap = 'hot_r', vmin = 0, vmax = 4);"
   ]
  },
  {
   "cell_type": "code",
   "execution_count": null,
   "metadata": {},
   "outputs": [],
   "source": []
  }
 ],
 "metadata": {
  "kernelspec": {
   "display_name": "Python 3",
   "language": "python",
   "name": "python3"
  },
  "language_info": {
   "codemirror_mode": {
    "name": "ipython",
    "version": 3
   },
   "file_extension": ".py",
   "mimetype": "text/x-python",
   "name": "python",
   "nbconvert_exporter": "python",
   "pygments_lexer": "ipython3",
   "version": "3.6.7"
  }
 },
 "nbformat": 4,
 "nbformat_minor": 2
}
