{
 "cells": [
  {
   "cell_type": "markdown",
   "metadata": {},
   "source": [
    "# Applying MHW defintion to NOW data\n",
    "\n",
    "This application applies the MHW code from Eric Olliver than is used to detect MHWs onto the NOW dataset, and will try and create plots and videos displaying this data."
   ]
  },
  {
   "cell_type": "markdown",
   "metadata": {},
   "source": [
    "Here we import the needed modules, and initialize a dask cluster. "
   ]
  },
  {
   "cell_type": "code",
   "execution_count": 1,
   "metadata": {},
   "outputs": [
    {
     "name": "stdout",
     "output_type": "stream",
     "text": [
      "Populating the interactive namespace from numpy and matplotlib\n"
     ]
    }
   ],
   "source": [
    "import xarray as xr\n",
    "import now\n",
    "import numpy as np\n",
    "import time\n",
    "from datetime import date\n",
    "from matplotlib import pyplot as plt\n",
    "from dask.distributed import LocalCluster, Client\n",
    "import dask as da\n",
    "import marineHeatWaves as mhw\n",
    "%pylab inline"
   ]
  },
  {
   "cell_type": "code",
   "execution_count": 2,
   "metadata": {},
   "outputs": [
    {
     "data": {
      "text/html": [
       "<table style=\"border: 2px solid white;\">\n",
       "<tr>\n",
       "<td style=\"vertical-align: top; border: 0px solid white\">\n",
       "<h3>Client</h3>\n",
       "<ul>\n",
       "  <li><b>Scheduler: </b>inproc://10.0.64.10/1968/1\n",
       "  <li><b>Dashboard: </b><a href='http://localhost:8787/status' target='_blank'>http://localhost:8787/status</a>\n",
       "</ul>\n",
       "</td>\n",
       "<td style=\"vertical-align: top; border: 0px solid white\">\n",
       "<h3>Cluster</h3>\n",
       "<ul>\n",
       "  <li><b>Workers: </b>1</li>\n",
       "  <li><b>Cores: </b>8</li>\n",
       "  <li><b>Memory: </b>33.67 GB</li>\n",
       "</ul>\n",
       "</td>\n",
       "</tr>\n",
       "</table>"
      ],
      "text/plain": [
       "<Client: scheduler='inproc://10.0.64.10/1968/1' processes=1 cores=8>"
      ]
     },
     "execution_count": 2,
     "metadata": {},
     "output_type": "execute_result"
    }
   ],
   "source": [
    "local_dir = \"/g/data1a/e14/rm6294/dask-workers\"\n",
    "cluster = LocalCluster(processes=False, local_dir=local_dir)\n",
    "client = Client(cluster)\n",
    "client"
   ]
  },
  {
   "cell_type": "markdown",
   "metadata": {},
   "source": [
    "## Reading in NOW data\n",
    "This block reads in the SST from the NOW data, and splits up the past and future runs."
   ]
  },
  {
   "cell_type": "code",
   "execution_count": 3,
   "metadata": {
    "scrolled": true
   },
   "outputs": [],
   "source": [
    "cfg = 'present_vs_future.ini'\n",
    "gridT = now.io.open_nemo_griddata_from_zarr(cfg, grid='T')"
   ]
  },
  {
   "cell_type": "markdown",
   "metadata": {},
   "source": [
    "## Applying MHW functions\n",
    "The MHW code takes in 1D SST and time data. The NOW SST data (`sstPast` and `sstFuture`) are both 3D dimensional arrays, with 2D for position and 1D for time. Thus we have to run the mhw code multiple times, looping over each grid point (each latitude and longitude point)."
   ]
  },
  {
   "cell_type": "code",
   "execution_count": 4,
   "metadata": {},
   "outputs": [],
   "source": [
    "# NOW data is daily, and runs from 1990/01/01T12:00:00 to 2008/12/31T12:00:00. We use this to create our t vector.\n",
    "\n",
    "#Two lines below taken from example_synthetic file in MHW github\n",
    "t = np.arange(date(1990,1,1).toordinal(),date(2008,12,31).toordinal()+1)\n",
    "dates = [date.fromordinal(tt.astype(int)) for tt in t]"
   ]
  },
  {
   "cell_type": "markdown",
   "metadata": {},
   "source": [
    "## Sandbox area"
   ]
  },
  {
   "cell_type": "markdown",
   "metadata": {},
   "source": [
    "##### Here, we try an approach pioneered by Guilluame. We group the data by day of year, and then run mean etc to find relevant statistics."
   ]
  },
  {
   "cell_type": "code",
   "execution_count": 5,
   "metadata": {},
   "outputs": [],
   "source": [
    "sst_reshaped = xr.open_zarr('/g/data1/e14/gs9353/POST-PROCESS/MHWs/SST_per_dayofyear_Present_vs_Future.zarr')['tos'].sel(simulation='Present')\n",
    "sst_reshaped = sst_reshaped.isel(dayofyear = slice(0,-1)) # Removes day 366\n",
    "#The following circularises the data, making rolling window processes possible.\n",
    "start = sst_reshaped[:5]\n",
    "start['dayofyear'] = range(366,371)\n",
    "end = sst_reshaped[-5:]\n",
    "end['dayofyear'] = range(-4, 1)\n",
    "\n",
    "circular_sst = xr.concat([end, sst_reshaped, start], dim = 'dayofyear')\n",
    "\n"
   ]
  },
  {
   "cell_type": "markdown",
   "metadata": {},
   "source": [
    "###### We have the background climatology, but now need the threshold. This area will tackle that:"
   ]
  },
  {
   "cell_type": "code",
   "execution_count": 170,
   "metadata": {},
   "outputs": [
    {
     "name": "stderr",
     "output_type": "stream",
     "text": [
      "UsageError: Line magic function `%%time` not found.\n"
     ]
    }
   ],
   "source": [
    "%%time\n",
    "## Our approach\n",
    "trial = circular_sst.isel(x = slice(10,40), y = slice(10,40))\n",
    "trial_thresh_smooth = trial.rolling(dayofyear=10, center=True).construct('rolling_days')\n",
    "\n",
    "trials = trial_thresh_smooth.quantile(0.9, dim = [\"rolling_days\", \"year\"])\n",
    "\n",
    "a = trial_thresh_smooth.stack(z = ('rolling_days', 'year'))\n",
    "trials_fat = a.quantile(0.9,dim = 'z')\n",
    "trials = trials_fat.isel(dayofyear = slice(5,-5))"
   ]
  },
  {
   "cell_type": "code",
   "execution_count": 171,
   "metadata": {},
   "outputs": [
    {
     "name": "stdout",
     "output_type": "stream",
     "text": [
      "dask.array<reshape, shape=(376, 20, 20, 190), dtype=float32, chunksize=(100, 20, 20, 76)>\n"
     ]
    }
   ],
   "source": [
    "trial_thresh_smooth = trial.rolling(dayofyear=10, center=True).construct('rolling_days')\n",
    "a = trial_thresh_smooth.stack(z = ('rolling_days', 'year'))\n",
    "print(a.data)"
   ]
  },
  {
   "cell_type": "code",
   "execution_count": 172,
   "metadata": {},
   "outputs": [],
   "source": [
    "new = da.array.apply_along_axis(np.nanpercentile, a.get_axis_num('z'), a.data, 90)"
   ]
  },
  {
   "cell_type": "code",
   "execution_count": 173,
   "metadata": {},
   "outputs": [],
   "source": [
    "res = new.compute()"
   ]
  },
  {
   "cell_type": "code",
   "execution_count": 174,
   "metadata": {},
   "outputs": [
    {
     "data": {
      "image/png": "[encoded data removed]",
      "text/plain": [
       "<Figure size 432x288 with 1 Axes>"
      ]
     },
     "metadata": {
      "needs_background": "light"
     },
     "output_type": "display_data"
    }
   ],
   "source": [
    "plt.plot(res[:, 1, 1]);"
   ]
  },
  {
   "cell_type": "code",
   "execution_count": 184,
   "metadata": {},
   "outputs": [],
   "source": [
    "sst_coords = trial.coords"
   ]
  },
  {
   "cell_type": "code",
   "execution_count": 192,
   "metadata": {},
   "outputs": [],
   "source": [
    "sst_threshold = xr.DataArray(new, coords = new_coords, dims = new_dims)"
   ]
  },
  {
   "cell_type": "code",
   "execution_count": null,
   "metadata": {},
   "outputs": [],
   "source": [
    "res = sst_threshold.compute()"
   ]
  },
  {
   "cell_type": "code",
   "execution_count": null,
   "metadata": {},
   "outputs": [],
   "source": [
    "res.isel(x=1, y=1).plot()"
   ]
  },
  {
   "cell_type": "code",
   "execution_count": 104,
   "metadata": {},
   "outputs": [
    {
     "name": "stdout",
     "output_type": "stream",
     "text": [
      "CPU times: user 21.2 s, sys: 17.2 s, total: 38.4 s\n",
      "Wall time: 5.93 s\n"
     ]
    },
    {
     "data": {
      "image/png": "[encoded data removed]",
      "text/plain": [
       "<Figure size 432x288 with 1 Axes>"
      ]
     },
     "metadata": {
      "needs_background": "light"
     },
     "output_type": "display_data"
    }
   ],
   "source": [
    "%%time\n",
    "trials.isel(x = 1, y = 1).plot()\n",
    "sst_climatology_smooth.isel(x = 1, y = 1).plot();"
   ]
  },
  {
   "cell_type": "markdown",
   "metadata": {},
   "source": [
    "##### Here we try the brute force approach for a small area of the NOW data."
   ]
  },
  {
   "cell_type": "code",
   "execution_count": 90,
   "metadata": {
    "scrolled": true
   },
   "outputs": [],
   "source": [
    "%%time \n",
    "# MHW code\n",
    "ssta_structure = np.zeros((20, 20, 6940))\n",
    "clim_structure = np.zeros((20, 20, 6940))\n",
    "thresh_structure = np.zeros((20, 20, 6940))\n",
    "\n",
    "\n",
    "ssta = xr.DataArray(ssta_structure, dims=['x', 'y', 'date'])\n",
    "thresh = xr.DataArray(thresh_structure, dims=['x', 'y', 'date'])\n",
    "clima = xr.DataArray(clim_structure, dims=['x', 'y', 'date'])\n",
    "\n",
    "for i in range(2, 3):\n",
    "    for j in range(2, 3):\n",
    "        mhws, clim = mhw.detect(t, sstPast.isel(x = i, y = j))\n",
    "        clima[i,j,:] = clim['seas']\n",
    "        thresh[i,j,:] = clim['thresh']\n",
    "        ssta[i,j, :] = sstPast.isel(x = i, y = j) - clim['seas']\n",
    "       "
   ]
  },
  {
   "cell_type": "markdown",
   "metadata": {},
   "source": [
    "Result:\n",
    "Took Forever, and still only represented a tiny portion of data (see below), so this approach was shelved."
   ]
  },
  {
   "cell_type": "code",
   "execution_count": 91,
   "metadata": {
    "scrolled": true
   },
   "outputs": [
    {
     "data": {
      "image/png": "[encoded data removed]",
      "text/plain": [
       "<Figure size 432x288 with 1 Axes>"
      ]
     },
     "metadata": {
      "needs_background": "light"
     },
     "output_type": "display_data"
    }
   ],
   "source": [
    "ssta.isel(x= 2, y= 2).plot();\n",
    "thresha = thresh.isel(x= 2, y = 2) - clima.isel(x= 2, y= 2)\n",
    "thresha.plot();"
   ]
  },
  {
   "cell_type": "markdown",
   "metadata": {},
   "source": [
    "# Measuring MHW code vs Our approach"
   ]
  },
  {
   "cell_type": "code",
   "execution_count": 6,
   "metadata": {},
   "outputs": [],
   "source": [
    "sst_reshaped = xr.open_zarr('/g/data1/e14/gs9353/POST-PROCESS/MHWs/SST_per_dayofyear_Present_vs_Future.zarr')['tos'].sel(simulation='Present')\n",
    "sst_reshaped = sst_reshaped.isel(dayofyear = slice(0,-1)) # Removes day 366\n",
    "gridStart = 10\n",
    "gridFin = 29"
   ]
  },
  {
   "cell_type": "code",
   "execution_count": 18,
   "metadata": {},
   "outputs": [],
   "source": [
    "trial = circular_sst.isel(x = slice(gridStart,gridFin), y = slice(gridStart,gridFin))\n",
    "trial_thresh_smooth = trial.rolling(dayofyear=11, center=True).construct('rolling_days')\n",
    "trial_thresh_noSmooth = trial.rolling(dayofyear=1, center=True).construct('rolling_days')\n",
    "\n",
    "a = trial_thresh_smooth.stack(z = ('rolling_days', 'year'))\n",
    "a_noSmooth = trial_thresh_noSmooth.stack(z = ('rolling_days', 'year'))\n",
    "\n",
    "new = da.array.apply_along_axis(np.nanpercentile, a.get_axis_num('z'), a.data, 90)\n",
    "new_noSmooth = da.array.apply_along_axis(np.nanpercentile, a_noSmooth.get_axis_num('z'), a.data, 90)\n",
    "\n",
    "sst_coords = circular_sst.coords\n",
    "new_coords = {name : sst_coords[name] for name in sst_coords if name != 'year'}\n",
    "new_dims = [name for name in trial.dims if name != 'year']\n",
    "\n",
    "res = xr.DataArray(new, coords = new_coords, dims = new_dims)\n",
    "res_noSmooth = xr.DataArray(new_noSmooth, coords = new_coords, dims = new_dims)\n",
    "\n",
    "sst_threshold_fat = res.compute().rolling(dayofyear=31, center = True).mean()\n",
    "sst_threshold_fat_noSmooth = res_noSmooth.compute()\n",
    "\n",
    "sst_threshold = sst_threshold_fat.isel(dayofyear = slice(31,-31))\n",
    "sst_threshold_noSmooth = sst_threshold_fat_noSmooth.isel(dayofyear = slice(31,-31))"
   ]
  },
  {
   "cell_type": "code",
   "execution_count": 27,
   "metadata": {},
   "outputs": [
    {
     "name": "stdout",
     "output_type": "stream",
     "text": [
      "CPU times: user 2min 53s, sys: 1min 39s, total: 4min 33s\n",
      "Wall time: 2min 8s\n"
     ]
    }
   ],
   "source": [
    "%%time\n",
    "## Our approach\n",
    "## This code produces two clims and two thresholds. One has a 10 day smoothing window (smooth), while the other\n",
    "## has no window (noSmooth).\n",
    "\n",
    "start = sst_reshaped[:31]\n",
    "end = sst_reshaped[-31:]\n",
    "\n",
    "circular_sst = xr.concat([end, sst_reshaped, start], dim = 'dayofyear')\n",
    "\n",
    "#Climatology\n",
    "sst_climatology_raw = circular_sst.isel(x = slice(gridStart,gridFin), y = slice(gridStart,gridFin)).mean('year')\n",
    "\n",
    "sst_climatology_noSmooth_fat = sst_climatology_raw.rolling(dayofyear=1, center=True).mean()\n",
    "sst_climatology_smooth_fat = sst_climatology_raw.rolling(dayofyear=11, center=True).mean()\n",
    "\n",
    "sst_climatology = sst_climatology_smooth_fat.rolling(dayofyear=31, center = True).mean().isel(dayofyear = slice(31,-31))\n",
    "sst_climatology_noSmooth = sst_climatology_noSmooth_fat.isel(dayofyear = slice(31,-31))\n",
    "\n",
    "#Threshold\n",
    "trial = circular_sst.isel(x = slice(gridStart,gridFin), y = slice(gridStart,gridFin))\n",
    "trial_thresh_smooth = trial.rolling(dayofyear=11, center=True).construct('rolling_days')\n",
    "trial_thresh_noSmooth = trial.rolling(dayofyear=1, center=True).construct('rolling_days')\n",
    "\n",
    "a = trial_thresh_smooth.stack(z = ('rolling_days', 'year'))\n",
    "a_noSmooth = trial_thresh_noSmooth.stack(z = ('rolling_days', 'year'))\n",
    "\n",
    "new = da.array.apply_along_axis(np.nanpercentile, a.get_axis_num('z'), a.data, 90)\n",
    "new_noSmooth = da.array.apply_along_axis(np.nanpercentile, a_noSmooth.get_axis_num('z'), a.data, 90)\n",
    "\n",
    "sst_coords = trial.coords\n",
    "new_coords = {name : sst_coords[name] for name in sst_coords if name != 'year'}\n",
    "new_dims = [name for name in trial.dims if name != 'year']\n",
    "\n",
    "res = xr.DataArray(new, coords = new_coords, dims = new_dims)\n",
    "res_noSmooth = xr.DataArray(new_noSmooth, coords = new_coords, dims = new_dims)\n",
    "\n",
    "sst_threshold_fat = res.compute().rolling(dayofyear=31, center = True).mean()\n",
    "sst_threshold_fat_noSmooth = res_noSmooth.compute()\n",
    "\n",
    "sst_threshold = sst_threshold_fat.isel(dayofyear = slice(31,-31))\n",
    "sst_threshold_noSmooth = sst_threshold_fat_noSmooth.isel(dayofyear = slice(31,-31))\n"
   ]
  },
  {
   "cell_type": "code",
   "execution_count": 37,
   "metadata": {},
   "outputs": [],
   "source": [
    "sst_threshold.to_netcdf('/g/data1a/e14/rm6294/testNOWMHWFiles/newSmoothThresh.ni')\n",
    "#sst_climatology.to_netcdf('/g/data1a/e14/rm6294/testNOWMHWFiles/newSmoothClim.ni')"
   ]
  },
  {
   "cell_type": "code",
   "execution_count": 36,
   "metadata": {},
   "outputs": [
    {
     "data": {
      "text/plain": [
       "<xarray.DataArray (dayofyear: 365)>\n",
       "array([14.558184, 14.60425 , 14.647652, ..., 14.42174 , 14.467493, 14.511734])\n",
       "Coordinates:\n",
       "    nav_lat     float32 -42.223953\n",
       "    nav_lon     float32 86.98043\n",
       "    simulation  <U7 'Present'\n",
       "  * dayofyear   (dayofyear) int64 1 2 3 4 5 6 7 ... 359 360 361 362 363 364 365"
      ]
     },
     "execution_count": 36,
     "metadata": {},
     "output_type": "execute_result"
    }
   ],
   "source": [
    "sst_threshold.isel(x=1,y=1)"
   ]
  },
  {
   "cell_type": "code",
   "execution_count": 31,
   "metadata": {},
   "outputs": [
    {
     "data": {
      "image/png": "[encoded data removed]",
      "text/plain": [
       "<Figure size 432x288 with 1 Axes>"
      ]
     },
     "metadata": {
      "needs_background": "light"
     },
     "output_type": "display_data"
    }
   ],
   "source": [
    "sst_climatology.isel(x=3, y=3).plot()\n",
    "sst_threshold.isel(x=1, y=1).plot();"
   ]
  },
  {
   "cell_type": "code",
   "execution_count": 32,
   "metadata": {},
   "outputs": [],
   "source": [
    "sst = gridT['tos'] \n",
    "# SST contains both future and past run. We now split that up.\n",
    "sstPast = sst[0].load()\n",
    "sstFut = sst[1]"
   ]
  },
  {
   "cell_type": "code",
   "execution_count": 150,
   "metadata": {},
   "outputs": [
    {
     "name": "stdout",
     "output_type": "stream",
     "text": [
      "CPU times: user 42min 5s, sys: 1min 39s, total: 43min 44s\n",
      "Wall time: 41min 13s\n"
     ]
    }
   ],
   "source": [
    "%%time\n",
    "## MHW approach\n",
    "\n",
    "#ssta_structure = np.zeros((20, 20, 6940))\n",
    "clim_structure = np.zeros((20, 20, 6940))\n",
    "thresh_structure = np.zeros((20, 20, 6940))\n",
    "\n",
    "#ssta = xr.DataArray(ssta_structure, dims=['x', 'y', 'date'])\n",
    "thresh = xr.DataArray(thresh_structure, dims=['x', 'y', 'date'])\n",
    "clima = xr.DataArray(clim_structure, dims=['x', 'y', 'date'])\n",
    "\n",
    "for i in range(1, 20):\n",
    "    for j in range(1, 20):\n",
    "        mhws, clim = mhw.detect(t, sstPast.isel(x = i + 9, y = j + 9), smoothPercentile = False)\n",
    "        clima[i,j,:] = clim['seas']\n",
    "        thresh[i,j,:] = clim['thresh']\n",
    "        \n",
    "clima.to_netcdf('/g/data1a/e14/rm6294/testNOWMHWFiles/oldNoSmoothClim.ni')\n",
    "thresh.to_netcdf('/g/data1a/e14/rm6294/testNOWMHWFiles/oldNoSmoothThresh.ni')\n",
    "\n",
    "for i in range(1, 20):\n",
    "    for j in range(1, 20):\n",
    "        mhws, clim = mhw.detect(t, sstPast.isel(x = i + 9, y = j + 9))\n",
    "        clima[i,j,:] = clim['seas']\n",
    "        thresh[i,j,:] = clim['thresh']\n",
    "\n",
    "clima.to_netcdf('/g/data1a/e14/rm6294/testNOWMHWFiles/oldSmoothClim.ni')\n",
    "thresh.to_netcdf('/g/data1a/e14/rm6294/testNOWMHWFiles/oldSmoothThresh.ni')"
   ]
  },
  {
   "cell_type": "markdown",
   "metadata": {},
   "source": [
    "# Final Process: Finding Threshold and Climatology for entire Dataset"
   ]
  },
  {
   "cell_type": "code",
   "execution_count": 1,
   "metadata": {},
   "outputs": [
    {
     "name": "stdout",
     "output_type": "stream",
     "text": [
      "Populating the interactive namespace from numpy and matplotlib\n"
     ]
    },
    {
     "data": {
      "text/html": [
       "<table style=\"border: 2px solid white;\">\n",
       "<tr>\n",
       "<td style=\"vertical-align: top; border: 0px solid white\">\n",
       "<h3>Client</h3>\n",
       "<ul>\n",
       "  <li><b>Scheduler: </b>inproc://10.0.64.24/10114/1\n",
       "  <li><b>Dashboard: </b><a href='http://localhost:8787/status' target='_blank'>http://localhost:8787/status</a>\n",
       "</ul>\n",
       "</td>\n",
       "<td style=\"vertical-align: top; border: 0px solid white\">\n",
       "<h3>Cluster</h3>\n",
       "<ul>\n",
       "  <li><b>Workers: </b>1</li>\n",
       "  <li><b>Cores: </b>8</li>\n",
       "  <li><b>Memory: </b>33.67 GB</li>\n",
       "</ul>\n",
       "</td>\n",
       "</tr>\n",
       "</table>"
      ],
      "text/plain": [
       "<Client: scheduler='inproc://10.0.64.24/10114/1' processes=1 cores=8>"
      ]
     },
     "execution_count": 1,
     "metadata": {},
     "output_type": "execute_result"
    }
   ],
   "source": [
    "import xarray as xr\n",
    "import now\n",
    "import numpy as np\n",
    "import time\n",
    "from datetime import date\n",
    "from matplotlib import pyplot as plt\n",
    "from dask.distributed import LocalCluster, Client\n",
    "import dask as da\n",
    "import marineHeatWaves as mhw\n",
    "%pylab inline\n",
    "local_dir = \"/g/data1a/e14/rm6294/dask-workers\"\n",
    "cluster = LocalCluster(processes=False, local_dir=local_dir)\n",
    "client = Client(cluster)\n",
    "client"
   ]
  },
  {
   "cell_type": "code",
   "execution_count": 2,
   "metadata": {},
   "outputs": [],
   "source": [
    "sst_reshaped = xr.open_zarr('/g/data1/e14/gs9353/POST-PROCESS/MHWs/SST_per_dayofyear_Present_vs_Future_50x50.zarr')['tos'].sel(simulation='Present')\n",
    "#sst_reshaped = sst_reshaped.isel(dayofyear = slice(0,-1)) # Removes day 366\n",
    "#The following circularises the data, making rolling window processes possible.\n",
    "#start = sst_reshaped[:31]\n",
    "#start['dayofyear'] = range(366,397)\n",
    "#end = sst_reshaped[-31:]\n",
    "#end['dayofyear'] = range(-30, 1)\n",
    "\n",
    "circular_sst = sst_reshaped\n",
    "#circular_sst = circular_sst.chunk({'x' : 30, 'y' : 30, 'dayofyear' : 31})"
   ]
  },
  {
   "cell_type": "code",
   "execution_count": 3,
   "metadata": {},
   "outputs": [
    {
     "data": {
      "text/plain": [
       "<xarray.DataArray 'tos' (dayofyear: 427, year: 19, y: 289, x: 431)>\n",
       "dask.array<shape=(427, 19, 289, 431), dtype=float32, chunksize=(427, 19, 50, 50)>\n",
       "Coordinates:\n",
       "  * dayofyear   (dayofyear) int64 -30 -29 -28 -27 -26 ... 392 393 394 395 396\n",
       "    nav_lat     (y, x) float32 dask.array<shape=(289, 431), chunksize=(50, 50)>\n",
       "    nav_lon     (y, x) float32 dask.array<shape=(289, 431), chunksize=(50, 50)>\n",
       "    simulation  <U7 'Present'\n",
       "  * year        (year) int64 1990 1991 1992 1993 1994 ... 2005 2006 2007 2008\n",
       "Dimensions without coordinates: y, x\n",
       "Attributes:\n",
       "    interval_operation:  360s\n",
       "    interval_write:      1d\n",
       "    long_name:           sea_surface_temperature\n",
       "    online_operation:    average\n",
       "    units:               degC"
      ]
     },
     "execution_count": 3,
     "metadata": {},
     "output_type": "execute_result"
    }
   ],
   "source": [
    "circular_sst"
   ]
  },
  {
   "cell_type": "code",
   "execution_count": 11,
   "metadata": {
    "scrolled": false
   },
   "outputs": [
    {
     "name": "stderr",
     "output_type": "stream",
     "text": [
      "/g/data1/e14/rm6294/miniconda3/envs/now-postprocess/lib/python3.6/site-packages/dask/array/numpy_compat.py:28: RuntimeWarning: divide by zero encountered in true_divide\n",
      "  x = np.divide(x1, x2, out)\n",
      "/g/data1/e14/rm6294/miniconda3/envs/now-postprocess/lib/python3.6/site-packages/dask/array/numpy_compat.py:28: RuntimeWarning: invalid value encountered in true_divide\n",
      "  x = np.divide(x1, x2, out)\n",
      "/g/data1/e14/rm6294/miniconda3/envs/now-postprocess/lib/python3.6/site-packages/xarray/core/nanops.py:161: RuntimeWarning: Mean of empty slice\n",
      "  return np.nanmean(a, axis=axis, dtype=dtype)\n",
      "/g/data1/e14/rm6294/miniconda3/envs/now-postprocess/lib/python3.6/site-packages/dask/array/numpy_compat.py:28: RuntimeWarning: divide by zero encountered in true_divide\n",
      "  x = np.divide(x1, x2, out)\n",
      "/g/data1/e14/rm6294/miniconda3/envs/now-postprocess/lib/python3.6/site-packages/dask/array/numpy_compat.py:28: RuntimeWarning: invalid value encountered in true_divide\n",
      "  x = np.divide(x1, x2, out)\n",
      "/g/data1/e14/rm6294/miniconda3/envs/now-postprocess/lib/python3.6/site-packages/xarray/core/nanops.py:161: RuntimeWarning: Mean of empty slice\n",
      "  return np.nanmean(a, axis=axis, dtype=dtype)\n"
     ]
    },
    {
     "name": "stdout",
     "output_type": "stream",
     "text": [
      "CPU times: user 1min 30s, sys: 2min 23s, total: 3min 54s\n",
      "Wall time: 53.2 s\n"
     ]
    }
   ],
   "source": [
    "%%time\n",
    "#Climatology. Note no slicing, so we have the entire dataset: \n",
    "raw_sst = circular_sst.mean('year')\n",
    "sst_climatology_smooth_fat = raw_sst.rolling(dayofyear= 11, center = True).mean()\n",
    "sst_climatology = sst_climatology_smooth_fat.rolling(dayofyear=31, center = True).mean()"
   ]
  },
  {
   "cell_type": "code",
   "execution_count": 12,
   "metadata": {},
   "outputs": [
    {
     "name": "stderr",
     "output_type": "stream",
     "text": [
      "/g/data1/e14/rm6294/miniconda3/envs/now-postprocess/lib/python3.6/site-packages/dask/array/numpy_compat.py:28: RuntimeWarning: divide by zero encountered in true_divide\n",
      "  x = np.divide(x1, x2, out)\n",
      "/g/data1/e14/rm6294/miniconda3/envs/now-postprocess/lib/python3.6/site-packages/dask/array/numpy_compat.py:28: RuntimeWarning: invalid value encountered in true_divide\n",
      "  x = np.divide(x1, x2, out)\n"
     ]
    },
    {
     "name": "stdout",
     "output_type": "stream",
     "text": [
      "CPU times: user 51.2 s, sys: 1min 46s, total: 2min 37s\n",
      "Wall time: 1min 18s\n"
     ]
    }
   ],
   "source": [
    "%%time\n",
    "sst_climatology = sst_climatology.isel(dayofyear = slice(31,-31))\n",
    "sst_climatology.to_netcdf('/g/data1a/e14/rm6294/NOWMHW/orig/pastClim.nc')"
   ]
  },
  {
   "cell_type": "code",
   "execution_count": 4,
   "metadata": {
    "scrolled": true
   },
   "outputs": [],
   "source": [
    "#Threshold. Same here, no slicing:\n",
    "trial_thresh_smooth = circular_sst.rolling(dayofyear=11, center=True).construct('rolling_days')\n",
    "\n",
    "# This takes in the sst, performs the percentile calculation, then creates a new dimension and coordinate names \n",
    "# to prepapre the data for the final output\n",
    "a = trial_thresh_smooth.stack(z = ('rolling_days', 'year'))\n",
    "new = da.array.apply_along_axis(np.nanpercentile, a.get_axis_num('z'), a.data, 90)\n",
    "sst_coords = circular_sst.coords\n",
    "new_coords = {name : sst_coords[name] for name in sst_coords if name != 'year'}\n",
    "new_dims = [name for name in circular_sst.dims if name != 'year']\n",
    "res = xr.DataArray(new, coords = new_coords, dims = new_dims)"
   ]
  },
  {
   "cell_type": "code",
   "execution_count": 5,
   "metadata": {},
   "outputs": [
    {
     "name": "stderr",
     "output_type": "stream",
     "text": [
      "/g/data1/e14/rm6294/miniconda3/envs/now-postprocess/lib/python3.6/site-packages/numpy/lib/function_base.py:3405: RuntimeWarning: All-NaN slice encountered\n",
      "  r = func(a, **kwargs)\n"
     ]
    },
    {
     "name": "stdout",
     "output_type": "stream",
     "text": [
      "CPU times: user 5h 41min 16s, sys: 3h 7min 40s, total: 8h 48min 56s\n",
      "Wall time: 5h 35min 14s\n"
     ]
    }
   ],
   "source": [
    "%%time\n",
    "res.to_netcdf('/g/data1a/e14/rm6294/NOWMHW/orig/rawPercentiles.nc')"
   ]
  },
  {
   "cell_type": "code",
   "execution_count": 6,
   "metadata": {},
   "outputs": [
    {
     "name": "stderr",
     "output_type": "stream",
     "text": [
      "/g/data1/e14/rm6294/miniconda3/envs/now-postprocess/lib/python3.6/site-packages/xarray/core/nanops.py:161: RuntimeWarning: Mean of empty slice\n",
      "  return np.nanmean(a, axis=axis, dtype=dtype)\n"
     ]
    },
    {
     "name": "stdout",
     "output_type": "stream",
     "text": [
      "Data smoothed, DONE.\n",
      "CPU times: user 18 s, sys: 13.4 s, total: 31.4 s\n",
      "Wall time: 16.5 s\n"
     ]
    }
   ],
   "source": [
    "%%time\n",
    "#Final rolling mean over a month\n",
    "rawPerc = xr.open_dataset('/g/data1a/e14/rm6294/NOWMHW/orig/rawPercentiles.nc')\n",
    "sst_threshold = rawPerc.rolling(dayofyear=31, center = True).mean()\n",
    "print(\"Data smoothed, DONE.\")\n",
    "sst_threshold = sst_threshold.isel(dayofyear = slice(31,-31))\n",
    "sst_threshold.to_netcdf('/g/data1a/e14/rm6294/NOWMHW/orig/pastThresh.nc')"
   ]
  },
  {
   "cell_type": "code",
   "execution_count": null,
   "metadata": {},
   "outputs": [],
   "source": []
  }
 ],
 "metadata": {
  "kernelspec": {
   "display_name": "Python 3",
   "language": "python",
   "name": "python3"
  },
  "language_info": {
   "codemirror_mode": {
    "name": "ipython",
    "version": 3
   },
   "file_extension": ".py",
   "mimetype": "text/x-python",
   "name": "python",
   "nbconvert_exporter": "python",
   "pygments_lexer": "ipython3",
   "version": "3.6.7"
  }
 },
 "nbformat": 4,
 "nbformat_minor": 2
}
