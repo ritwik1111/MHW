{
 "cells": [
  {
   "cell_type": "code",
   "execution_count": 1,
   "metadata": {},
   "outputs": [],
   "source": [
    "import xarray as xr\n",
    "import now\n",
    "import marineHeatWaves\n",
    "from dask.distributed import LocalCluster, Client"
   ]
  },
  {
   "cell_type": "code",
   "execution_count": 2,
   "metadata": {},
   "outputs": [
    {
     "data": {
      "text/html": [
       "<table style=\"border: 2px solid white;\">\n",
       "<tr>\n",
       "<td style=\"vertical-align: top; border: 0px solid white\">\n",
       "<h3>Client</h3>\n",
       "<ul>\n",
       "  <li><b>Scheduler: </b>inproc://10.0.64.22/626/1\n",
       "  <li><b>Dashboard: </b><a href='http://localhost:8787/status' target='_blank'>http://localhost:8787/status</a>\n",
       "</ul>\n",
       "</td>\n",
       "<td style=\"vertical-align: top; border: 0px solid white\">\n",
       "<h3>Cluster</h3>\n",
       "<ul>\n",
       "  <li><b>Workers: </b>1</li>\n",
       "  <li><b>Cores: </b>8</li>\n",
       "  <li><b>Memory: </b>33.67 GB</li>\n",
       "</ul>\n",
       "</td>\n",
       "</tr>\n",
       "</table>"
      ],
      "text/plain": [
       "<Client: scheduler='inproc://10.0.64.22/626/1' processes=1 cores=8>"
      ]
     },
     "execution_count": 2,
     "metadata": {},
     "output_type": "execute_result"
    }
   ],
   "source": [
    "local_dir = \"/g/data1a/e14/rm6294/dask-workers\"\n",
    "cluster = LocalCluster(processes=False, local_dir=local_dir)\n",
    "client = Client(cluster)\n",
    "client"
   ]
  },
  {
   "cell_type": "code",
   "execution_count": 3,
   "metadata": {
    "scrolled": true
   },
   "outputs": [
    {
     "data": {
      "text/plain": [
       "<xarray.Dataset>\n",
       "Dimensions:          (simulation: 2, time_counter: 6940, x: 431, y: 289)\n",
       "Coordinates:\n",
       "    nav_lat          (y, x) float32 dask.array<shape=(289, 431), chunksize=(289, 431)>\n",
       "    nav_lon          (y, x) float32 dask.array<shape=(289, 431), chunksize=(289, 431)>\n",
       "  * time_counter     (time_counter) datetime64[ns] 1990-01-01T12:00:00 ... 2008-12-31T12:00:00\n",
       "    time_maximum_1d  (time_counter) datetime64[ns] dask.array<shape=(6940,), chunksize=(6940,)>\n",
       "    time_minimum_1d  (time_counter) datetime64[ns] dask.array<shape=(6940,), chunksize=(6940,)>\n",
       "  * simulation       (simulation) <U7 'Present' 'Future'\n",
       "Dimensions without coordinates: x, y\n",
       "Data variables:\n",
       "    20d              (simulation, time_counter, y, x) float32 dask.array<shape=(2, 6940, 289, 431), chunksize=(1, 250, 289, 431)>\n",
       "    blt              (simulation, time_counter, y, x) float32 dask.array<shape=(2, 6940, 289, 431), chunksize=(1, 250, 289, 431)>\n",
       "    depti            (simulation, time_counter, y, x) float32 dask.array<shape=(2, 6940, 289, 431), chunksize=(1, 250, 289, 431)>\n",
       "    mld_dt02         (simulation, time_counter, y, x) float32 dask.array<shape=(2, 6940, 289, 431), chunksize=(1, 250, 289, 431)>\n",
       "    mldkz5           (simulation, time_counter, y, x) float32 dask.array<shape=(2, 6940, 289, 431), chunksize=(1, 250, 289, 431)>\n",
       "    mldr10_1         (simulation, time_counter, y, x) float32 dask.array<shape=(2, 6940, 289, 431), chunksize=(1, 250, 289, 431)>\n",
       "    mldr10_3         (simulation, time_counter, y, x) float32 dask.array<shape=(2, 6940, 289, 431), chunksize=(1, 250, 289, 431)>\n",
       "    pycndep          (simulation, time_counter, y, x) float32 dask.array<shape=(2, 6940, 289, 431), chunksize=(1, 250, 289, 431)>\n",
       "    rsntds           (simulation, time_counter, y, x) float32 dask.array<shape=(2, 6940, 289, 431), chunksize=(1, 250, 289, 431)>\n",
       "    sos              (simulation, time_counter, y, x) float32 dask.array<shape=(2, 6940, 289, 431), chunksize=(1, 250, 289, 431)>\n",
       "    taum             (simulation, time_counter, y, x) float32 dask.array<shape=(2, 6940, 289, 431), chunksize=(1, 250, 289, 431)>\n",
       "    tinv             (simulation, time_counter, y, x) float32 dask.array<shape=(2, 6940, 289, 431), chunksize=(1, 250, 289, 431)>\n",
       "    tohfls           (simulation, time_counter, y, x) float32 dask.array<shape=(2, 6940, 289, 431), chunksize=(1, 250, 289, 431)>\n",
       "    topthdep         (simulation, time_counter, y, x) float32 dask.array<shape=(2, 6940, 289, 431), chunksize=(1, 250, 289, 431)>\n",
       "    tos              (simulation, time_counter, y, x) float32 dask.array<shape=(2, 6940, 289, 431), chunksize=(1, 250, 289, 431)>\n",
       "    tos_max          (simulation, time_counter, y, x) float32 dask.array<shape=(2, 6940, 289, 431), chunksize=(1, 250, 289, 431)>\n",
       "    tos_min          (simulation, time_counter, y, x) float32 dask.array<shape=(2, 6940, 289, 431), chunksize=(1, 250, 289, 431)>\n",
       "    tossq            (simulation, time_counter, y, x) float32 dask.array<shape=(2, 6940, 289, 431), chunksize=(1, 250, 289, 431)>\n",
       "    wfo              (simulation, time_counter, y, x) float32 dask.array<shape=(2, 6940, 289, 431), chunksize=(1, 250, 289, 431)>\n",
       "    zos              (simulation, time_counter, y, x) float32 dask.array<shape=(2, 6940, 289, 431), chunksize=(1, 250, 289, 431)>\n",
       "Attributes:\n",
       "    conventions:  CF-1.1\n",
       "    description:  ocean T grid variables\n",
       "    name:         cordex24-BMJv2_BILAP_1d_19890101_19891231_grid_T\n",
       "    production:   An IPSL model\n",
       "    timeStamp:    2015-Jun-24 10:42:49 AEST"
      ]
     },
     "execution_count": 3,
     "metadata": {},
     "output_type": "execute_result"
    }
   ],
   "source": [
    "cfg = 'present_vs_future.ini'\n",
    "gridT = now.io.open_nemo_griddata_from_zarr(cfg, grid='T')\n",
    "gridT"
   ]
  },
  {
   "cell_type": "markdown",
   "metadata": {},
   "source": [
    "As we want surface temperatures, we try extracting the tos part of gridT. To confirm we run:"
   ]
  },
  {
   "cell_type": "code",
   "execution_count": 4,
   "metadata": {},
   "outputs": [
    {
     "data": {
      "text/plain": [
       "OrderedDict([('interval_operation', '360s'),\n",
       "             ('interval_write', '1d'),\n",
       "             ('long_name', 'sea_surface_temperature'),\n",
       "             ('online_operation', 'average'),\n",
       "             ('units', 'degC')])"
      ]
     },
     "execution_count": 4,
     "metadata": {},
     "output_type": "execute_result"
    }
   ],
   "source": [
    "gridT.tos.attrs"
   ]
  },
  {
   "cell_type": "code",
   "execution_count": 5,
   "metadata": {},
   "outputs": [],
   "source": [
    "sst = gridT['tos']"
   ]
  },
  {
   "cell_type": "code",
   "execution_count": 6,
   "metadata": {},
   "outputs": [
    {
     "data": {
      "text/plain": [
       "<xarray.DataArray 'tos' (simulation: 2, time_counter: 6940, y: 289, x: 431)>\n",
       "dask.array<shape=(2, 6940, 289, 431), dtype=float32, chunksize=(1, 250, 289, 431)>\n",
       "Coordinates:\n",
       "    nav_lat          (y, x) float32 dask.array<shape=(289, 431), chunksize=(289, 431)>\n",
       "    nav_lon          (y, x) float32 dask.array<shape=(289, 431), chunksize=(289, 431)>\n",
       "  * time_counter     (time_counter) datetime64[ns] 1990-01-01T12:00:00 ... 2008-12-31T12:00:00\n",
       "    time_maximum_1d  (time_counter) datetime64[ns] dask.array<shape=(6940,), chunksize=(6940,)>\n",
       "    time_minimum_1d  (time_counter) datetime64[ns] dask.array<shape=(6940,), chunksize=(6940,)>\n",
       "  * simulation       (simulation) <U7 'Present' 'Future'\n",
       "Dimensions without coordinates: y, x\n",
       "Attributes:\n",
       "    interval_operation:  360s\n",
       "    interval_write:      1d\n",
       "    long_name:           sea_surface_temperature\n",
       "    online_operation:    average\n",
       "    units:               degC"
      ]
     },
     "execution_count": 6,
     "metadata": {},
     "output_type": "execute_result"
    }
   ],
   "source": [
    "sst"
   ]
  },
  {
   "cell_type": "code",
   "execution_count": 7,
   "metadata": {},
   "outputs": [],
   "source": [
    "sstPast = sst[0]\n",
    "sstFut = sst[1]"
   ]
  },
  {
   "cell_type": "code",
   "execution_count": 23,
   "metadata": {},
   "outputs": [
    {
     "data": {
      "text/plain": [
       "6940"
      ]
     },
     "execution_count": 23,
     "metadata": {},
     "output_type": "execute_result"
    }
   ],
   "source": [
    "sstPast['nav_lon'] = sstPast['nav_lon'] % 360\n",
    "len(sstPast.isel(x = 100, y=100))"
   ]
  },
  {
   "cell_type": "code",
   "execution_count": 59,
   "metadata": {},
   "outputs": [],
   "source": [
    "    currSST = sstPast.isel(time_counter = i)\n",
    "    currSST.plot(cmap='seismic', size = 10, x='nav_lon', y='nav_lat',vmin = 0, vmax = 37)\n",
    "   \n",
    "    plt.savefig(plot_dir + 'sstPlot_{:0>3d}.png'.format(i),bbox_inches='tight')\n",
    "    plt.close('all')\n",
    "\n",
    "#sstPast.isel(time_counter = 6000).plot(cmap='seismic', size = 10, x='nav_lon', y='nav_lat',vmin = 0, vmax = 37);"
   ]
  },
  {
   "cell_type": "code",
   "execution_count": 10,
   "metadata": {},
   "outputs": [],
   "source": [
    "# define function to create movie\n",
    "import os\n",
    "import numpy as np\n",
    "import matplotlib.pyplot as plt\n",
    "\n",
    "def save_movie(image_filenames,movie_filename,framerate):\n",
    "    os.system('ffmpeg -r ' + str(framerate) + ' -i ' + image_filenames + ' -vb 20M -vcodec mpeg4 -y ' + movie_filename)\n",
    "    print('Created movie')"
   ]
  },
  {
   "cell_type": "code",
   "execution_count": 63,
   "metadata": {},
   "outputs": [
    {
     "name": "stdout",
     "output_type": "stream",
     "text": [
      "Saved figure 50\n",
      "Saved snapshots\n"
     ]
    }
   ],
   "source": [
    "# create a directory for plots\n",
    "plot_dir = \"/g/data1a/e14/rm6294/sstPlots_v2\"\n",
    "lenT = 6940 # known previously\n",
    "\n",
    "for i in range(19,100): \n",
    "    currSST = sstPast.isel(time_counter = i)\n",
    "    currSST.plot(cmap='seismic', size = 10, x='nav_lon', y='nav_lat',vmin = 0, vmax = 37)\n",
    "    \n",
    "    plt.savefig(plot_dir + '/sstPlot_{:0>3d}.png'.format(i),bbox_inches='tight')\n",
    "    plt.close('all')\n",
    "    \n",
    "    if i%50 == 0: \n",
    "        print('Saved figure',i)\n",
    "        \n",
    "print('Saved snapshots')"
   ]
  },
  {
   "cell_type": "code",
   "execution_count": 61,
   "metadata": {},
   "outputs": [
    {
     "data": {
      "text/plain": [
       "19"
      ]
     },
     "execution_count": 61,
     "metadata": {},
     "output_type": "execute_result"
    }
   ],
   "source": [
    "i"
   ]
  }
 ],
 "metadata": {
  "kernelspec": {
   "display_name": "Python 3",
   "language": "python",
   "name": "python3"
  },
  "language_info": {
   "codemirror_mode": {
    "name": "ipython",
    "version": 3
   },
   "file_extension": ".py",
   "mimetype": "text/x-python",
   "name": "python",
   "nbconvert_exporter": "python",
   "pygments_lexer": "ipython3",
   "version": "3.6.7"
  }
 },
 "nbformat": 4,
 "nbformat_minor": 2
}
